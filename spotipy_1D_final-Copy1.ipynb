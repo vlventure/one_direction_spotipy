{
 "cells": [
  {
   "cell_type": "code",
   "execution_count": 1,
   "id": "2ec251c0",
   "metadata": {},
   "outputs": [],
   "source": [
    "import requests\n",
    "import spotipy\n",
    "from spotipy.oauth2 import SpotifyOAuth\n",
    "import pandas as pd\n",
    "import time\n",
    "import datetime\n",
    "import matplotlib.pyplot as plt\n",
    "import seaborn as sns"
   ]
  },
  {
   "cell_type": "code",
   "execution_count": 2,
   "id": "2cfc83e4",
   "metadata": {},
   "outputs": [],
   "source": [
    "%matplotlib inline"
   ]
  },
  {
   "cell_type": "code",
   "execution_count": 3,
   "id": "80a28575",
   "metadata": {},
   "outputs": [],
   "source": [
    "#note everyone will have a different client_id and client_secret\n",
    "spotipy_client_id = 'CLIENT_ID'\n",
    "spotipy_client_secret = 'SECRET_ID'\n",
    "spotipy_redirect_uri = 'URI'\n",
    "scope = 'user-top-read'"
   ]
  },
  {
   "cell_type": "code",
   "execution_count": 4,
   "id": "40c7c128",
   "metadata": {},
   "outputs": [],
   "source": [
    "sp = spotipy.Spotify(auth_manager = SpotifyOAuth(client_id = spotipy_client_id, \n",
    "                                                client_secret = spotipy_client_secret, \n",
    "                                                redirect_uri = spotipy_redirect_uri,\n",
    "                                                scope = scope))"
   ]
  },
  {
   "cell_type": "markdown",
   "id": "fd9ba3a0",
   "metadata": {},
   "source": [
    "#### Get album IDs"
   ]
  },
  {
   "cell_type": "code",
   "execution_count": 5,
   "id": "3e34dbb7",
   "metadata": {},
   "outputs": [],
   "source": [
    "#get albums for 1D\n",
    "artist = sp.artist_albums('4AK6F7OLvEQ5QYCBNiQWHq', album_type='album')"
   ]
  },
  {
   "cell_type": "code",
   "execution_count": 6,
   "id": "8a3f6a2a",
   "metadata": {},
   "outputs": [
    {
     "data": {
      "text/plain": [
       "'1gMxiQQSg5zeu4htBosASY'"
      ]
     },
     "execution_count": 6,
     "metadata": {},
     "output_type": "execute_result"
    }
   ],
   "source": [
    "#get album id for made in the AM\n",
    "\n",
    "AM_id = artist['items'][0]['id']\n",
    "AM_id"
   ]
  },
  {
   "cell_type": "code",
   "execution_count": 7,
   "id": "5485d24b",
   "metadata": {},
   "outputs": [
    {
     "data": {
      "text/plain": [
       "'4gCNyS7pidfK3rKWhB3JOY'"
      ]
     },
     "execution_count": 7,
     "metadata": {},
     "output_type": "execute_result"
    }
   ],
   "source": [
    "four_id = artist['items'][1]['id']\n",
    "four_id"
   ]
  },
  {
   "cell_type": "code",
   "execution_count": 8,
   "id": "f2cf8ae9",
   "metadata": {},
   "outputs": [
    {
     "data": {
      "text/plain": [
       "'7p1fX8aUySrBdx4WSYspOu'"
      ]
     },
     "execution_count": 8,
     "metadata": {},
     "output_type": "execute_result"
    }
   ],
   "source": [
    "midnight_id = artist['items'][2]['id']\n",
    "midnight_id"
   ]
  },
  {
   "cell_type": "code",
   "execution_count": 9,
   "id": "d3f6ec20",
   "metadata": {},
   "outputs": [
    {
     "data": {
      "text/plain": [
       "'2sWX3HYnZjPZ9MrH6MFsBt'"
      ]
     },
     "execution_count": 9,
     "metadata": {},
     "output_type": "execute_result"
    }
   ],
   "source": [
    "home_id = artist['items'][3]['id']\n",
    "home_id"
   ]
  },
  {
   "cell_type": "code",
   "execution_count": 10,
   "id": "8e4051ea",
   "metadata": {},
   "outputs": [
    {
     "data": {
      "text/plain": [
       "'6cunQQ7YZisYOoiFu2ywIq'"
      ]
     },
     "execution_count": 10,
     "metadata": {},
     "output_type": "execute_result"
    }
   ],
   "source": [
    "up_id = artist['items'][4]['id']\n",
    "up_id"
   ]
  },
  {
   "cell_type": "markdown",
   "id": "1ce8d0b2",
   "metadata": {},
   "source": [
    "#### Get Track Info for each Album"
   ]
  },
  {
   "cell_type": "code",
   "execution_count": 11,
   "id": "f3a64a61",
   "metadata": {},
   "outputs": [],
   "source": [
    "#tracks for up all night\n",
    "up_tracks = sp.album_tracks('6cunQQ7YZisYOoiFu2ywIq')\n",
    "#up_tracks"
   ]
  },
  {
   "cell_type": "code",
   "execution_count": 12,
   "id": "c3905a82",
   "metadata": {},
   "outputs": [],
   "source": [
    "# tracks for Take Me Home\n",
    "home_tracks = sp.album_tracks('2sWX3HYnZjPZ9MrH6MFsBt')\n",
    "#home_tracks"
   ]
  },
  {
   "cell_type": "code",
   "execution_count": 13,
   "id": "a426897a",
   "metadata": {},
   "outputs": [],
   "source": [
    "# tracks for Midnight Memories\n",
    "midnight_tracks = sp.album_tracks('7p1fX8aUySrBdx4WSYspOu')\n"
   ]
  },
  {
   "cell_type": "code",
   "execution_count": 14,
   "id": "fe3f3b93",
   "metadata": {},
   "outputs": [],
   "source": [
    "# tracks for FOUR\n",
    "four_tracks = sp.album_tracks(four_id)"
   ]
  },
  {
   "cell_type": "code",
   "execution_count": 15,
   "id": "999a5933",
   "metadata": {},
   "outputs": [],
   "source": [
    "# tracks for Made in the AM\n",
    "AM_tracks = sp.album_tracks(AM_id)"
   ]
  },
  {
   "cell_type": "markdown",
   "id": "e3dc3168",
   "metadata": {},
   "source": [
    "#### Get Track IDs for all Albums"
   ]
  },
  {
   "cell_type": "code",
   "execution_count": 16,
   "id": "959cf30f",
   "metadata": {},
   "outputs": [],
   "source": [
    "#function to get track ids for album\n",
    "def get_track_ids(album):\n",
    "    track_ids=[]\n",
    "    for song in album['items']:\n",
    "        track_ids.append(song['id'])\n",
    "    return track_ids"
   ]
  },
  {
   "cell_type": "code",
   "execution_count": 17,
   "id": "ba66eab9",
   "metadata": {},
   "outputs": [
    {
     "data": {
      "text/plain": [
       "['4cluDES4hQEUhmXj6TXkSo',\n",
       " '3jJ5NJ3aNWvV70Rd7hgZIH',\n",
       " '5G2c6FsfTzgYUzageCmfXY',\n",
       " '0UAB340gAcSMk3r0a8PTag',\n",
       " '1I93YiKgu2P5pwprWmziPI',\n",
       " '5bODPM8nTwwTIE4W9fuUcC',\n",
       " '6N5ruusDFjQPYvCka8ejwP',\n",
       " '4K0M12PIWJjA4H0NAP142y',\n",
       " '5MIMD5WMooNWe8QsMqCrE8',\n",
       " '2EpTKW1O5Zmok99BzQOi9D',\n",
       " '46qPfZshPjoitCKdKVD6k7',\n",
       " '41PiyIwNrzoLn598y2glGY',\n",
       " '1KNEo25B740JX8ZcphK4Xm',\n",
       " '147ximWPJObFNQ4M1AhFox',\n",
       " '3MxJGBnYaP4yQYUv90HLqZ',\n",
       " '6xnh4eQ4poVpqQBacETxia',\n",
       " '5fEql5cR2hjR6wPGUPiEEb',\n",
       " '4yVPaA6DOfwbqZIQNv4G5U']"
      ]
     },
     "execution_count": 17,
     "metadata": {},
     "output_type": "execute_result"
    }
   ],
   "source": [
    "#all track ids for up all night\n",
    "up_track_ids = get_track_ids(up_tracks)\n",
    "up_track_ids"
   ]
  },
  {
   "cell_type": "code",
   "execution_count": 18,
   "id": "4c6131db",
   "metadata": {},
   "outputs": [],
   "source": [
    "home_track_ids = get_track_ids(home_tracks)\n",
    "midnight_track_ids = get_track_ids(midnight_tracks)\n",
    "four_track_ids = get_track_ids(four_tracks)\n",
    "AM_track_ids = get_track_ids(AM_tracks)"
   ]
  },
  {
   "cell_type": "code",
   "execution_count": 19,
   "id": "e73c0d23",
   "metadata": {},
   "outputs": [],
   "source": [
    "#combine all track ids into one list\n",
    "all_1d_tracks = up_track_ids + home_track_ids + midnight_track_ids + four_track_ids + AM_track_ids"
   ]
  },
  {
   "cell_type": "markdown",
   "id": "5a0880cd",
   "metadata": {},
   "source": [
    "#### Get General Info About Each Track"
   ]
  },
  {
   "cell_type": "code",
   "execution_count": 20,
   "id": "3423f901",
   "metadata": {},
   "outputs": [],
   "source": [
    "#get track info\n",
    "def get_track_features(id):\n",
    "    meta=sp.track(id)\n",
    "    #meta\n",
    "    track_id= meta['id']\n",
    "    name = meta['name']\n",
    "    album = meta['album']['name']\n",
    "    artist = meta['album']['artists'][0]['name']\n",
    "    spotify_url = meta['external_urls']['spotify']\n",
    "    album_cover = meta['album']['images'][0]['url']\n",
    "    track_info= [track_id, name, album, artist, spotify_url, album_cover]\n",
    "    return track_info"
   ]
  },
  {
   "cell_type": "code",
   "execution_count": 21,
   "id": "a1420a54",
   "metadata": {},
   "outputs": [
    {
     "data": {
      "text/plain": [
       "['4cluDES4hQEUhmXj6TXkSo',\n",
       " 'What Makes You Beautiful',\n",
       " 'Up All Night',\n",
       " 'One Direction',\n",
       " 'https://open.spotify.com/track/4cluDES4hQEUhmXj6TXkSo',\n",
       " 'https://i.scdn.co/image/ab67616d0000b2734a5584795dc73860653a9a3e']"
      ]
     },
     "execution_count": 21,
     "metadata": {},
     "output_type": "execute_result"
    }
   ],
   "source": [
    "get_track_features('4cluDES4hQEUhmXj6TXkSo')"
   ]
  },
  {
   "cell_type": "code",
   "execution_count": 22,
   "id": "48cab52e",
   "metadata": {},
   "outputs": [],
   "source": [
    "#loop over track ids to get df of all tracks\n",
    "#time.sleep(.5) means sleep in between each track\n",
    "track_info = []\n",
    "for i in range (len(all_1d_tracks)):\n",
    "    time.sleep(.5)\n",
    "    track = get_track_features(all_1d_tracks[i])\n",
    "    track_info.append(track)"
   ]
  },
  {
   "cell_type": "code",
   "execution_count": 23,
   "id": "15bd2662",
   "metadata": {},
   "outputs": [],
   "source": [
    "#track_info"
   ]
  },
  {
   "cell_type": "code",
   "execution_count": 24,
   "id": "ca8b5add",
   "metadata": {
    "scrolled": true
   },
   "outputs": [
    {
     "data": {
      "text/html": [
       "<div>\n",
       "<style scoped>\n",
       "    .dataframe tbody tr th:only-of-type {\n",
       "        vertical-align: middle;\n",
       "    }\n",
       "\n",
       "    .dataframe tbody tr th {\n",
       "        vertical-align: top;\n",
       "    }\n",
       "\n",
       "    .dataframe thead th {\n",
       "        text-align: right;\n",
       "    }\n",
       "</style>\n",
       "<table border=\"1\" class=\"dataframe\">\n",
       "  <thead>\n",
       "    <tr style=\"text-align: right;\">\n",
       "      <th></th>\n",
       "      <th>track_id</th>\n",
       "      <th>name</th>\n",
       "      <th>album</th>\n",
       "      <th>artist</th>\n",
       "      <th>spotify_url</th>\n",
       "      <th>album_cover</th>\n",
       "    </tr>\n",
       "  </thead>\n",
       "  <tbody>\n",
       "    <tr>\n",
       "      <th>0</th>\n",
       "      <td>4cluDES4hQEUhmXj6TXkSo</td>\n",
       "      <td>What Makes You Beautiful</td>\n",
       "      <td>Up All Night</td>\n",
       "      <td>One Direction</td>\n",
       "      <td>https://open.spotify.com/track/4cluDES4hQEUhmX...</td>\n",
       "      <td>https://i.scdn.co/image/ab67616d0000b2734a5584...</td>\n",
       "    </tr>\n",
       "    <tr>\n",
       "      <th>1</th>\n",
       "      <td>3jJ5NJ3aNWvV70Rd7hgZIH</td>\n",
       "      <td>Gotta Be You</td>\n",
       "      <td>Up All Night</td>\n",
       "      <td>One Direction</td>\n",
       "      <td>https://open.spotify.com/track/3jJ5NJ3aNWvV70R...</td>\n",
       "      <td>https://i.scdn.co/image/ab67616d0000b2734a5584...</td>\n",
       "    </tr>\n",
       "    <tr>\n",
       "      <th>2</th>\n",
       "      <td>5G2c6FsfTzgYUzageCmfXY</td>\n",
       "      <td>One Thing</td>\n",
       "      <td>Up All Night</td>\n",
       "      <td>One Direction</td>\n",
       "      <td>https://open.spotify.com/track/5G2c6FsfTzgYUza...</td>\n",
       "      <td>https://i.scdn.co/image/ab67616d0000b2734a5584...</td>\n",
       "    </tr>\n",
       "    <tr>\n",
       "      <th>3</th>\n",
       "      <td>0UAB340gAcSMk3r0a8PTag</td>\n",
       "      <td>More Than This</td>\n",
       "      <td>Up All Night</td>\n",
       "      <td>One Direction</td>\n",
       "      <td>https://open.spotify.com/track/0UAB340gAcSMk3r...</td>\n",
       "      <td>https://i.scdn.co/image/ab67616d0000b2734a5584...</td>\n",
       "    </tr>\n",
       "    <tr>\n",
       "      <th>4</th>\n",
       "      <td>1I93YiKgu2P5pwprWmziPI</td>\n",
       "      <td>Up All Night</td>\n",
       "      <td>Up All Night</td>\n",
       "      <td>One Direction</td>\n",
       "      <td>https://open.spotify.com/track/1I93YiKgu2P5pwp...</td>\n",
       "      <td>https://i.scdn.co/image/ab67616d0000b2734a5584...</td>\n",
       "    </tr>\n",
       "  </tbody>\n",
       "</table>\n",
       "</div>"
      ],
      "text/plain": [
       "                 track_id                      name         album  \\\n",
       "0  4cluDES4hQEUhmXj6TXkSo  What Makes You Beautiful  Up All Night   \n",
       "1  3jJ5NJ3aNWvV70Rd7hgZIH              Gotta Be You  Up All Night   \n",
       "2  5G2c6FsfTzgYUzageCmfXY                 One Thing  Up All Night   \n",
       "3  0UAB340gAcSMk3r0a8PTag            More Than This  Up All Night   \n",
       "4  1I93YiKgu2P5pwprWmziPI              Up All Night  Up All Night   \n",
       "\n",
       "          artist                                        spotify_url  \\\n",
       "0  One Direction  https://open.spotify.com/track/4cluDES4hQEUhmX...   \n",
       "1  One Direction  https://open.spotify.com/track/3jJ5NJ3aNWvV70R...   \n",
       "2  One Direction  https://open.spotify.com/track/5G2c6FsfTzgYUza...   \n",
       "3  One Direction  https://open.spotify.com/track/0UAB340gAcSMk3r...   \n",
       "4  One Direction  https://open.spotify.com/track/1I93YiKgu2P5pwp...   \n",
       "\n",
       "                                         album_cover  \n",
       "0  https://i.scdn.co/image/ab67616d0000b2734a5584...  \n",
       "1  https://i.scdn.co/image/ab67616d0000b2734a5584...  \n",
       "2  https://i.scdn.co/image/ab67616d0000b2734a5584...  \n",
       "3  https://i.scdn.co/image/ab67616d0000b2734a5584...  \n",
       "4  https://i.scdn.co/image/ab67616d0000b2734a5584...  "
      ]
     },
     "execution_count": 24,
     "metadata": {},
     "output_type": "execute_result"
    }
   ],
   "source": [
    "# Create DF of track_info\n",
    "track_info_df = pd.DataFrame(track_info, columns = ['track_id', 'name', 'album', 'artist', 'spotify_url', 'album_cover'])\n",
    "track_info_df.head()"
   ]
  },
  {
   "cell_type": "markdown",
   "id": "0b020e1f",
   "metadata": {},
   "source": [
    "#### Audio Features for Each Track"
   ]
  },
  {
   "cell_type": "code",
   "execution_count": 25,
   "id": "ecf2b371",
   "metadata": {},
   "outputs": [
    {
     "data": {
      "text/plain": [
       "[{'danceability': 0.726,\n",
       "  'energy': 0.787,\n",
       "  'key': 4,\n",
       "  'loudness': -2.494,\n",
       "  'mode': 1,\n",
       "  'speechiness': 0.0737,\n",
       "  'acousticness': 0.009,\n",
       "  'instrumentalness': 0,\n",
       "  'liveness': 0.0596,\n",
       "  'valence': 0.888,\n",
       "  'tempo': 124.99,\n",
       "  'type': 'audio_features',\n",
       "  'id': '4cluDES4hQEUhmXj6TXkSo',\n",
       "  'uri': 'spotify:track:4cluDES4hQEUhmXj6TXkSo',\n",
       "  'track_href': 'https://api.spotify.com/v1/tracks/4cluDES4hQEUhmXj6TXkSo',\n",
       "  'analysis_url': 'https://api.spotify.com/v1/audio-analysis/4cluDES4hQEUhmXj6TXkSo',\n",
       "  'duration_ms': 199987,\n",
       "  'time_signature': 4}]"
      ]
     },
     "execution_count": 25,
     "metadata": {},
     "output_type": "execute_result"
    }
   ],
   "source": [
    "audio_info1 = sp.audio_features('4cluDES4hQEUhmXj6TXkSo')\n",
    "audio_info1"
   ]
  },
  {
   "cell_type": "code",
   "execution_count": 26,
   "id": "b96821a0",
   "metadata": {},
   "outputs": [],
   "source": [
    "#create a function to get track features\n",
    "def get_audio_features(id):\n",
    "    meta_audio=sp.audio_features(id)\n",
    "    #meta\n",
    "    for track in meta_audio: \n",
    "        track_id = meta_audio[0].get('id')\n",
    "        danceability = meta_audio[0].get('danceability')\n",
    "        energy = meta_audio[0].get('energy')\n",
    "        valence = meta_audio[0].get('valence')\n",
    "        tempo = meta_audio[0].get('tempo')\n",
    "        track_audio_info= [track_id, danceability, energy, valence, tempo]\n",
    "    return track_audio_info"
   ]
  },
  {
   "cell_type": "code",
   "execution_count": 27,
   "id": "8e195ccb",
   "metadata": {},
   "outputs": [
    {
     "data": {
      "text/plain": [
       "['4cluDES4hQEUhmXj6TXkSo', 0.726, 0.787, 0.888, 124.99]"
      ]
     },
     "execution_count": 27,
     "metadata": {},
     "output_type": "execute_result"
    }
   ],
   "source": [
    "get_audio_features('4cluDES4hQEUhmXj6TXkSo')"
   ]
  },
  {
   "cell_type": "code",
   "execution_count": 28,
   "id": "06043832",
   "metadata": {},
   "outputs": [],
   "source": [
    "#loop over tracks to get audio features for all tracks\n",
    "tracks_features = []\n",
    "for i in range (len(all_1d_tracks)):\n",
    "    time.sleep(.5)\n",
    "    track= get_audio_features(all_1d_tracks[i])\n",
    "    tracks_features.append(track)"
   ]
  },
  {
   "cell_type": "code",
   "execution_count": 29,
   "id": "5bb9dfd9",
   "metadata": {},
   "outputs": [],
   "source": [
    "# turn tracks_features list into df\n",
    "audio_features_df = pd.DataFrame(tracks_features, columns = ['track_id', 'danceability', 'energy', 'valence', 'tempo'])"
   ]
  },
  {
   "cell_type": "code",
   "execution_count": 30,
   "id": "67977c33",
   "metadata": {},
   "outputs": [
    {
     "data": {
      "text/html": [
       "<div>\n",
       "<style scoped>\n",
       "    .dataframe tbody tr th:only-of-type {\n",
       "        vertical-align: middle;\n",
       "    }\n",
       "\n",
       "    .dataframe tbody tr th {\n",
       "        vertical-align: top;\n",
       "    }\n",
       "\n",
       "    .dataframe thead th {\n",
       "        text-align: right;\n",
       "    }\n",
       "</style>\n",
       "<table border=\"1\" class=\"dataframe\">\n",
       "  <thead>\n",
       "    <tr style=\"text-align: right;\">\n",
       "      <th></th>\n",
       "      <th>track_id</th>\n",
       "      <th>danceability</th>\n",
       "      <th>energy</th>\n",
       "      <th>valence</th>\n",
       "      <th>tempo</th>\n",
       "    </tr>\n",
       "  </thead>\n",
       "  <tbody>\n",
       "    <tr>\n",
       "      <th>0</th>\n",
       "      <td>4cluDES4hQEUhmXj6TXkSo</td>\n",
       "      <td>0.726</td>\n",
       "      <td>0.787</td>\n",
       "      <td>0.888</td>\n",
       "      <td>124.990</td>\n",
       "    </tr>\n",
       "    <tr>\n",
       "      <th>1</th>\n",
       "      <td>3jJ5NJ3aNWvV70Rd7hgZIH</td>\n",
       "      <td>0.495</td>\n",
       "      <td>0.583</td>\n",
       "      <td>0.603</td>\n",
       "      <td>84.969</td>\n",
       "    </tr>\n",
       "    <tr>\n",
       "      <th>2</th>\n",
       "      <td>5G2c6FsfTzgYUzageCmfXY</td>\n",
       "      <td>0.713</td>\n",
       "      <td>0.718</td>\n",
       "      <td>0.656</td>\n",
       "      <td>126.999</td>\n",
       "    </tr>\n",
       "    <tr>\n",
       "      <th>3</th>\n",
       "      <td>0UAB340gAcSMk3r0a8PTag</td>\n",
       "      <td>0.498</td>\n",
       "      <td>0.715</td>\n",
       "      <td>0.225</td>\n",
       "      <td>151.809</td>\n",
       "    </tr>\n",
       "    <tr>\n",
       "      <th>4</th>\n",
       "      <td>1I93YiKgu2P5pwprWmziPI</td>\n",
       "      <td>0.606</td>\n",
       "      <td>0.929</td>\n",
       "      <td>0.622</td>\n",
       "      <td>139.022</td>\n",
       "    </tr>\n",
       "  </tbody>\n",
       "</table>\n",
       "</div>"
      ],
      "text/plain": [
       "                 track_id  danceability  energy  valence    tempo\n",
       "0  4cluDES4hQEUhmXj6TXkSo         0.726   0.787    0.888  124.990\n",
       "1  3jJ5NJ3aNWvV70Rd7hgZIH         0.495   0.583    0.603   84.969\n",
       "2  5G2c6FsfTzgYUzageCmfXY         0.713   0.718    0.656  126.999\n",
       "3  0UAB340gAcSMk3r0a8PTag         0.498   0.715    0.225  151.809\n",
       "4  1I93YiKgu2P5pwprWmziPI         0.606   0.929    0.622  139.022"
      ]
     },
     "execution_count": 30,
     "metadata": {},
     "output_type": "execute_result"
    }
   ],
   "source": [
    "audio_features_df.head()"
   ]
  },
  {
   "cell_type": "code",
   "execution_count": 31,
   "id": "3cae2607",
   "metadata": {},
   "outputs": [],
   "source": [
    "all_track_info = track_info_df.merge(audio_features_df, how='left', on = 'track_id')"
   ]
  },
  {
   "cell_type": "code",
   "execution_count": 32,
   "id": "05b930b7",
   "metadata": {},
   "outputs": [
    {
     "data": {
      "text/html": [
       "<div>\n",
       "<style scoped>\n",
       "    .dataframe tbody tr th:only-of-type {\n",
       "        vertical-align: middle;\n",
       "    }\n",
       "\n",
       "    .dataframe tbody tr th {\n",
       "        vertical-align: top;\n",
       "    }\n",
       "\n",
       "    .dataframe thead th {\n",
       "        text-align: right;\n",
       "    }\n",
       "</style>\n",
       "<table border=\"1\" class=\"dataframe\">\n",
       "  <thead>\n",
       "    <tr style=\"text-align: right;\">\n",
       "      <th></th>\n",
       "      <th>track_id</th>\n",
       "      <th>name</th>\n",
       "      <th>album</th>\n",
       "      <th>artist</th>\n",
       "      <th>spotify_url</th>\n",
       "      <th>album_cover</th>\n",
       "      <th>danceability</th>\n",
       "      <th>energy</th>\n",
       "      <th>valence</th>\n",
       "      <th>tempo</th>\n",
       "    </tr>\n",
       "  </thead>\n",
       "  <tbody>\n",
       "    <tr>\n",
       "      <th>0</th>\n",
       "      <td>4cluDES4hQEUhmXj6TXkSo</td>\n",
       "      <td>What Makes You Beautiful</td>\n",
       "      <td>Up All Night</td>\n",
       "      <td>One Direction</td>\n",
       "      <td>https://open.spotify.com/track/4cluDES4hQEUhmX...</td>\n",
       "      <td>https://i.scdn.co/image/ab67616d0000b2734a5584...</td>\n",
       "      <td>0.726</td>\n",
       "      <td>0.787</td>\n",
       "      <td>0.888</td>\n",
       "      <td>124.990</td>\n",
       "    </tr>\n",
       "    <tr>\n",
       "      <th>1</th>\n",
       "      <td>3jJ5NJ3aNWvV70Rd7hgZIH</td>\n",
       "      <td>Gotta Be You</td>\n",
       "      <td>Up All Night</td>\n",
       "      <td>One Direction</td>\n",
       "      <td>https://open.spotify.com/track/3jJ5NJ3aNWvV70R...</td>\n",
       "      <td>https://i.scdn.co/image/ab67616d0000b2734a5584...</td>\n",
       "      <td>0.495</td>\n",
       "      <td>0.583</td>\n",
       "      <td>0.603</td>\n",
       "      <td>84.969</td>\n",
       "    </tr>\n",
       "    <tr>\n",
       "      <th>2</th>\n",
       "      <td>5G2c6FsfTzgYUzageCmfXY</td>\n",
       "      <td>One Thing</td>\n",
       "      <td>Up All Night</td>\n",
       "      <td>One Direction</td>\n",
       "      <td>https://open.spotify.com/track/5G2c6FsfTzgYUza...</td>\n",
       "      <td>https://i.scdn.co/image/ab67616d0000b2734a5584...</td>\n",
       "      <td>0.713</td>\n",
       "      <td>0.718</td>\n",
       "      <td>0.656</td>\n",
       "      <td>126.999</td>\n",
       "    </tr>\n",
       "    <tr>\n",
       "      <th>3</th>\n",
       "      <td>0UAB340gAcSMk3r0a8PTag</td>\n",
       "      <td>More Than This</td>\n",
       "      <td>Up All Night</td>\n",
       "      <td>One Direction</td>\n",
       "      <td>https://open.spotify.com/track/0UAB340gAcSMk3r...</td>\n",
       "      <td>https://i.scdn.co/image/ab67616d0000b2734a5584...</td>\n",
       "      <td>0.498</td>\n",
       "      <td>0.715</td>\n",
       "      <td>0.225</td>\n",
       "      <td>151.809</td>\n",
       "    </tr>\n",
       "    <tr>\n",
       "      <th>4</th>\n",
       "      <td>1I93YiKgu2P5pwprWmziPI</td>\n",
       "      <td>Up All Night</td>\n",
       "      <td>Up All Night</td>\n",
       "      <td>One Direction</td>\n",
       "      <td>https://open.spotify.com/track/1I93YiKgu2P5pwp...</td>\n",
       "      <td>https://i.scdn.co/image/ab67616d0000b2734a5584...</td>\n",
       "      <td>0.606</td>\n",
       "      <td>0.929</td>\n",
       "      <td>0.622</td>\n",
       "      <td>139.022</td>\n",
       "    </tr>\n",
       "  </tbody>\n",
       "</table>\n",
       "</div>"
      ],
      "text/plain": [
       "                 track_id                      name         album  \\\n",
       "0  4cluDES4hQEUhmXj6TXkSo  What Makes You Beautiful  Up All Night   \n",
       "1  3jJ5NJ3aNWvV70Rd7hgZIH              Gotta Be You  Up All Night   \n",
       "2  5G2c6FsfTzgYUzageCmfXY                 One Thing  Up All Night   \n",
       "3  0UAB340gAcSMk3r0a8PTag            More Than This  Up All Night   \n",
       "4  1I93YiKgu2P5pwprWmziPI              Up All Night  Up All Night   \n",
       "\n",
       "          artist                                        spotify_url  \\\n",
       "0  One Direction  https://open.spotify.com/track/4cluDES4hQEUhmX...   \n",
       "1  One Direction  https://open.spotify.com/track/3jJ5NJ3aNWvV70R...   \n",
       "2  One Direction  https://open.spotify.com/track/5G2c6FsfTzgYUza...   \n",
       "3  One Direction  https://open.spotify.com/track/0UAB340gAcSMk3r...   \n",
       "4  One Direction  https://open.spotify.com/track/1I93YiKgu2P5pwp...   \n",
       "\n",
       "                                         album_cover  danceability  energy  \\\n",
       "0  https://i.scdn.co/image/ab67616d0000b2734a5584...         0.726   0.787   \n",
       "1  https://i.scdn.co/image/ab67616d0000b2734a5584...         0.495   0.583   \n",
       "2  https://i.scdn.co/image/ab67616d0000b2734a5584...         0.713   0.718   \n",
       "3  https://i.scdn.co/image/ab67616d0000b2734a5584...         0.498   0.715   \n",
       "4  https://i.scdn.co/image/ab67616d0000b2734a5584...         0.606   0.929   \n",
       "\n",
       "   valence    tempo  \n",
       "0    0.888  124.990  \n",
       "1    0.603   84.969  \n",
       "2    0.656  126.999  \n",
       "3    0.225  151.809  \n",
       "4    0.622  139.022  "
      ]
     },
     "execution_count": 32,
     "metadata": {},
     "output_type": "execute_result"
    }
   ],
   "source": [
    "all_track_info.head()"
   ]
  },
  {
   "cell_type": "code",
   "execution_count": 33,
   "id": "0fa79991",
   "metadata": {},
   "outputs": [],
   "source": [
    "one_D = all_track_info[['name', 'album','artist', 'danceability', 'energy', 'valence','tempo']]"
   ]
  },
  {
   "cell_type": "code",
   "execution_count": 34,
   "id": "906e26b5",
   "metadata": {},
   "outputs": [
    {
     "data": {
      "text/html": [
       "<div>\n",
       "<style scoped>\n",
       "    .dataframe tbody tr th:only-of-type {\n",
       "        vertical-align: middle;\n",
       "    }\n",
       "\n",
       "    .dataframe tbody tr th {\n",
       "        vertical-align: top;\n",
       "    }\n",
       "\n",
       "    .dataframe thead th {\n",
       "        text-align: right;\n",
       "    }\n",
       "</style>\n",
       "<table border=\"1\" class=\"dataframe\">\n",
       "  <thead>\n",
       "    <tr style=\"text-align: right;\">\n",
       "      <th></th>\n",
       "      <th>name</th>\n",
       "      <th>album</th>\n",
       "      <th>artist</th>\n",
       "      <th>danceability</th>\n",
       "      <th>energy</th>\n",
       "      <th>valence</th>\n",
       "      <th>tempo</th>\n",
       "    </tr>\n",
       "  </thead>\n",
       "  <tbody>\n",
       "    <tr>\n",
       "      <th>0</th>\n",
       "      <td>What Makes You Beautiful</td>\n",
       "      <td>Up All Night</td>\n",
       "      <td>One Direction</td>\n",
       "      <td>0.726</td>\n",
       "      <td>0.787</td>\n",
       "      <td>0.888</td>\n",
       "      <td>124.990</td>\n",
       "    </tr>\n",
       "    <tr>\n",
       "      <th>1</th>\n",
       "      <td>Gotta Be You</td>\n",
       "      <td>Up All Night</td>\n",
       "      <td>One Direction</td>\n",
       "      <td>0.495</td>\n",
       "      <td>0.583</td>\n",
       "      <td>0.603</td>\n",
       "      <td>84.969</td>\n",
       "    </tr>\n",
       "    <tr>\n",
       "      <th>2</th>\n",
       "      <td>One Thing</td>\n",
       "      <td>Up All Night</td>\n",
       "      <td>One Direction</td>\n",
       "      <td>0.713</td>\n",
       "      <td>0.718</td>\n",
       "      <td>0.656</td>\n",
       "      <td>126.999</td>\n",
       "    </tr>\n",
       "    <tr>\n",
       "      <th>3</th>\n",
       "      <td>More Than This</td>\n",
       "      <td>Up All Night</td>\n",
       "      <td>One Direction</td>\n",
       "      <td>0.498</td>\n",
       "      <td>0.715</td>\n",
       "      <td>0.225</td>\n",
       "      <td>151.809</td>\n",
       "    </tr>\n",
       "    <tr>\n",
       "      <th>4</th>\n",
       "      <td>Up All Night</td>\n",
       "      <td>Up All Night</td>\n",
       "      <td>One Direction</td>\n",
       "      <td>0.606</td>\n",
       "      <td>0.929</td>\n",
       "      <td>0.622</td>\n",
       "      <td>139.022</td>\n",
       "    </tr>\n",
       "  </tbody>\n",
       "</table>\n",
       "</div>"
      ],
      "text/plain": [
       "                       name         album         artist  danceability  \\\n",
       "0  What Makes You Beautiful  Up All Night  One Direction         0.726   \n",
       "1              Gotta Be You  Up All Night  One Direction         0.495   \n",
       "2                 One Thing  Up All Night  One Direction         0.713   \n",
       "3            More Than This  Up All Night  One Direction         0.498   \n",
       "4              Up All Night  Up All Night  One Direction         0.606   \n",
       "\n",
       "   energy  valence    tempo  \n",
       "0   0.787    0.888  124.990  \n",
       "1   0.583    0.603   84.969  \n",
       "2   0.718    0.656  126.999  \n",
       "3   0.715    0.225  151.809  \n",
       "4   0.929    0.622  139.022  "
      ]
     },
     "execution_count": 34,
     "metadata": {},
     "output_type": "execute_result"
    }
   ],
   "source": [
    "one_D.head()"
   ]
  },
  {
   "cell_type": "code",
   "execution_count": 35,
   "id": "9092392d",
   "metadata": {},
   "outputs": [
    {
     "data": {
      "text/html": [
       "<div>\n",
       "<style scoped>\n",
       "    .dataframe tbody tr th:only-of-type {\n",
       "        vertical-align: middle;\n",
       "    }\n",
       "\n",
       "    .dataframe tbody tr th {\n",
       "        vertical-align: top;\n",
       "    }\n",
       "\n",
       "    .dataframe thead th {\n",
       "        text-align: right;\n",
       "    }\n",
       "</style>\n",
       "<table border=\"1\" class=\"dataframe\">\n",
       "  <thead>\n",
       "    <tr style=\"text-align: right;\">\n",
       "      <th></th>\n",
       "      <th>danceability</th>\n",
       "      <th>energy</th>\n",
       "      <th>valence</th>\n",
       "      <th>tempo</th>\n",
       "    </tr>\n",
       "  </thead>\n",
       "  <tbody>\n",
       "    <tr>\n",
       "      <th>count</th>\n",
       "      <td>89.000000</td>\n",
       "      <td>89.000000</td>\n",
       "      <td>89.000000</td>\n",
       "      <td>89.000000</td>\n",
       "    </tr>\n",
       "    <tr>\n",
       "      <th>mean</th>\n",
       "      <td>0.584966</td>\n",
       "      <td>0.758045</td>\n",
       "      <td>0.548944</td>\n",
       "      <td>127.541506</td>\n",
       "    </tr>\n",
       "    <tr>\n",
       "      <th>std</th>\n",
       "      <td>0.083844</td>\n",
       "      <td>0.170869</td>\n",
       "      <td>0.204753</td>\n",
       "      <td>23.002301</td>\n",
       "    </tr>\n",
       "    <tr>\n",
       "      <th>min</th>\n",
       "      <td>0.373000</td>\n",
       "      <td>0.220000</td>\n",
       "      <td>0.168000</td>\n",
       "      <td>72.595000</td>\n",
       "    </tr>\n",
       "    <tr>\n",
       "      <th>25%</th>\n",
       "      <td>0.524000</td>\n",
       "      <td>0.668000</td>\n",
       "      <td>0.370000</td>\n",
       "      <td>117.031000</td>\n",
       "    </tr>\n",
       "    <tr>\n",
       "      <th>50%</th>\n",
       "      <td>0.584000</td>\n",
       "      <td>0.818000</td>\n",
       "      <td>0.538000</td>\n",
       "      <td>126.999000</td>\n",
       "    </tr>\n",
       "    <tr>\n",
       "      <th>75%</th>\n",
       "      <td>0.647000</td>\n",
       "      <td>0.889000</td>\n",
       "      <td>0.679000</td>\n",
       "      <td>142.002000</td>\n",
       "    </tr>\n",
       "    <tr>\n",
       "      <th>max</th>\n",
       "      <td>0.741000</td>\n",
       "      <td>0.984000</td>\n",
       "      <td>0.960000</td>\n",
       "      <td>179.961000</td>\n",
       "    </tr>\n",
       "  </tbody>\n",
       "</table>\n",
       "</div>"
      ],
      "text/plain": [
       "       danceability     energy    valence       tempo\n",
       "count     89.000000  89.000000  89.000000   89.000000\n",
       "mean       0.584966   0.758045   0.548944  127.541506\n",
       "std        0.083844   0.170869   0.204753   23.002301\n",
       "min        0.373000   0.220000   0.168000   72.595000\n",
       "25%        0.524000   0.668000   0.370000  117.031000\n",
       "50%        0.584000   0.818000   0.538000  126.999000\n",
       "75%        0.647000   0.889000   0.679000  142.002000\n",
       "max        0.741000   0.984000   0.960000  179.961000"
      ]
     },
     "execution_count": 35,
     "metadata": {},
     "output_type": "execute_result"
    }
   ],
   "source": [
    "one_D.describe()"
   ]
  },
  {
   "cell_type": "markdown",
   "id": "13f1ba8d",
   "metadata": {},
   "source": [
    "### Energy"
   ]
  },
  {
   "cell_type": "code",
   "execution_count": 36,
   "id": "5293fab3",
   "metadata": {},
   "outputs": [
    {
     "data": {
      "text/plain": [
       "<seaborn.axisgrid.FacetGrid at 0x7f83dab75fd0>"
      ]
     },
     "execution_count": 36,
     "metadata": {},
     "output_type": "execute_result"
    },
    {
     "data": {
      "text/plain": [
       "<Figure size 720x864 with 0 Axes>"
      ]
     },
     "metadata": {},
     "output_type": "display_data"
    },
    {
     "data": {
      "image/png": "[encoded data removed]",
      "text/plain": [
       "<Figure size 638.625x216 with 1 Axes>"
      ]
     },
     "metadata": {
      "needs_background": "light"
     },
     "output_type": "display_data"
    }
   ],
   "source": [
    "plt.figure(figsize=(10, 12))\n",
    "ax = sns.FacetGrid(one_D, hue=\"album\",aspect=2, palette='Set2')\n",
    "#plot all possible kde \n",
    "ax.map(sns.kdeplot,'energy',shade= True)\n",
    "#set lower and upper limits\n",
    "ax.set(xlim=(0,1))\n",
    "#add a legend\n",
    "ax.add_legend()"
   ]
  },
  {
   "cell_type": "code",
   "execution_count": 37,
   "id": "db25a07f",
   "metadata": {},
   "outputs": [
    {
     "data": {
      "text/plain": [
       "Text(0, 0.5, 'Energy')"
      ]
     },
     "execution_count": 37,
     "metadata": {},
     "output_type": "execute_result"
    },
    {
     "data": {
      "image/png": "[encoded data removed]",
      "text/plain": [
       "<Figure size 864x432 with 1 Axes>"
      ]
     },
     "metadata": {
      "needs_background": "light"
     },
     "output_type": "display_data"
    }
   ],
   "source": [
    "#sns.set_context('notebook')\n",
    "plt.figure(figsize=(12,6))\n",
    "ax=sns.boxplot(x='album', y='energy', data=one_D, orient='v',palette='Set2')\n",
    "ax.set_title('Distribution of Energy for each One Direction Album')\n",
    "\n",
    "ax.set_xlabel('Album')\n",
    "ax.set_ylabel('Energy')"
   ]
  },
  {
   "cell_type": "markdown",
   "id": "e1b78ac4",
   "metadata": {},
   "source": [
    "### Danceability"
   ]
  },
  {
   "cell_type": "code",
   "execution_count": 38,
   "id": "354ca7b6",
   "metadata": {},
   "outputs": [
    {
     "data": {
      "text/plain": [
       "<seaborn.axisgrid.FacetGrid at 0x7f83db3281f0>"
      ]
     },
     "execution_count": 38,
     "metadata": {},
     "output_type": "execute_result"
    },
    {
     "data": {
      "text/plain": [
       "<Figure size 720x864 with 0 Axes>"
      ]
     },
     "metadata": {},
     "output_type": "display_data"
    },
    {
     "data": {
      "image/png": "[encoded data removed]",
      "text/plain": [
       "<Figure size 638.625x216 with 1 Axes>"
      ]
     },
     "metadata": {
      "needs_background": "light"
     },
     "output_type": "display_data"
    }
   ],
   "source": [
    "plt.figure(figsize=(10, 12))\n",
    "ax = sns.FacetGrid(one_D, hue=\"album\",aspect=2, palette='Set2')\n",
    "#plot all possible kde \n",
    "ax.map(sns.kdeplot,'danceability',shade= True)\n",
    "#set lower and upper limits\n",
    "ax.set(xlim=(0,1))\n",
    "#add a legend\n",
    "ax.add_legend()"
   ]
  },
  {
   "cell_type": "code",
   "execution_count": 39,
   "id": "b8c74d9b",
   "metadata": {},
   "outputs": [
    {
     "data": {
      "text/plain": [
       "Text(0, 0.5, 'Danceability')"
      ]
     },
     "execution_count": 39,
     "metadata": {},
     "output_type": "execute_result"
    },
    {
     "data": {
      "image/png": "[encoded data removed]",
      "text/plain": [
       "<Figure size 864x432 with 1 Axes>"
      ]
     },
     "metadata": {
      "needs_background": "light"
     },
     "output_type": "display_data"
    }
   ],
   "source": [
    "plt.figure(figsize=(12,6))\n",
    "ax=sns.boxplot(x='album', y='danceability', data=one_D, orient='v',palette='Set2')\n",
    "ax.set_title('Distribution of Danceability for each One Direction Album')\n",
    "\n",
    "ax.set_xlabel('Album')\n",
    "ax.set_ylabel('Danceability')"
   ]
  },
  {
   "cell_type": "markdown",
   "id": "7f9acfbd",
   "metadata": {},
   "source": [
    "### Valence"
   ]
  },
  {
   "cell_type": "code",
   "execution_count": 40,
   "id": "6ec24241",
   "metadata": {},
   "outputs": [
    {
     "data": {
      "text/plain": [
       "<seaborn.axisgrid.FacetGrid at 0x7f83db953dc0>"
      ]
     },
     "execution_count": 40,
     "metadata": {},
     "output_type": "execute_result"
    },
    {
     "data": {
      "text/plain": [
       "<Figure size 720x864 with 0 Axes>"
      ]
     },
     "metadata": {},
     "output_type": "display_data"
    },
    {
     "data": {
      "image/png": "[encoded data removed]",
      "text/plain": [
       "<Figure size 638.625x216 with 1 Axes>"
      ]
     },
     "metadata": {
      "needs_background": "light"
     },
     "output_type": "display_data"
    }
   ],
   "source": [
    "plt.figure(figsize=(10, 12))\n",
    "ax = sns.FacetGrid(one_D, hue=\"album\",aspect=2, palette='Set2')\n",
    "#plot all possible kde \n",
    "ax.map(sns.kdeplot,'valence',shade= True)\n",
    "#set lower and upper limits\n",
    "ax.set(xlim=(0,1))\n",
    "#add a legend\n",
    "ax.add_legend()"
   ]
  },
  {
   "cell_type": "code",
   "execution_count": 41,
   "id": "64046c9d",
   "metadata": {},
   "outputs": [
    {
     "data": {
      "text/plain": [
       "Text(0, 0.5, 'Valence')"
      ]
     },
     "execution_count": 41,
     "metadata": {},
     "output_type": "execute_result"
    },
    {
     "data": {
      "image/png": "[encoded data removed]",
      "text/plain": [
       "<Figure size 864x432 with 1 Axes>"
      ]
     },
     "metadata": {
      "needs_background": "light"
     },
     "output_type": "display_data"
    }
   ],
   "source": [
    "plt.figure(figsize=(12,6))\n",
    "ax=sns.boxplot(x='album', y='valence', data=one_D, orient='v',palette='Set2')\n",
    "ax.set_title('Distribution of Valence for each One Direction Album')\n",
    "\n",
    "ax.set_xlabel('Album')\n",
    "ax.set_ylabel('Valence')"
   ]
  },
  {
   "cell_type": "code",
   "execution_count": 42,
   "id": "2455189a",
   "metadata": {},
   "outputs": [
    {
     "data": {
      "text/plain": [
       "<seaborn.axisgrid.PairGrid at 0x7f83dbe52fd0>"
      ]
     },
     "execution_count": 42,
     "metadata": {},
     "output_type": "execute_result"
    },
    {
     "data": {
      "image/png": "[encoded data removed]",
      "text/plain": [
       "<Figure size 720x720 with 20 Axes>"
      ]
     },
     "metadata": {
      "needs_background": "light"
     },
     "output_type": "display_data"
    }
   ],
   "source": [
    "sns.pairplot(one_D)"
   ]
  },
  {
   "cell_type": "markdown",
   "id": "c72492f1",
   "metadata": {},
   "source": [
    "### Popularity of Tracks"
   ]
  },
  {
   "cell_type": "code",
   "execution_count": 43,
   "id": "c126227f",
   "metadata": {},
   "outputs": [],
   "source": [
    "track_info2 = sp.track('3jJ5NJ3aNWvV70Rd7hgZIH')"
   ]
  },
  {
   "cell_type": "code",
   "execution_count": 44,
   "id": "8a25b155",
   "metadata": {},
   "outputs": [],
   "source": [
    "#track_info2"
   ]
  },
  {
   "cell_type": "code",
   "execution_count": 45,
   "id": "6d4f3459",
   "metadata": {},
   "outputs": [
    {
     "data": {
      "text/plain": [
       "'3jJ5NJ3aNWvV70Rd7hgZIH'"
      ]
     },
     "execution_count": 45,
     "metadata": {},
     "output_type": "execute_result"
    }
   ],
   "source": [
    "track_info2['id']"
   ]
  },
  {
   "cell_type": "code",
   "execution_count": 46,
   "id": "dec9ecb4",
   "metadata": {},
   "outputs": [],
   "source": [
    "#create function to get track info\n",
    "def get_track_popularity(id):\n",
    "    track_info = sp.track(id)\n",
    "    for track in track_info:\n",
    "        popularity = track_info['popularity']\n",
    "        track_id = track_info['id']\n",
    "        pop_id = [track_id, popularity]\n",
    "    return pop_id"
   ]
  },
  {
   "cell_type": "code",
   "execution_count": 47,
   "id": "659b7e32",
   "metadata": {},
   "outputs": [
    {
     "data": {
      "text/plain": [
       "['3jJ5NJ3aNWvV70Rd7hgZIH', 61]"
      ]
     },
     "execution_count": 47,
     "metadata": {},
     "output_type": "execute_result"
    }
   ],
   "source": [
    "get_track_popularity('3jJ5NJ3aNWvV70Rd7hgZIH')"
   ]
  },
  {
   "cell_type": "code",
   "execution_count": 48,
   "id": "3706bd0a",
   "metadata": {},
   "outputs": [],
   "source": [
    "tracks_popularity = []\n",
    "for i in range (len(all_1d_tracks)):\n",
    "    time.sleep(.5)\n",
    "    pop_info = get_track_popularity(all_1d_tracks[i])\n",
    "    tracks_popularity.append(pop_info)"
   ]
  },
  {
   "cell_type": "code",
   "execution_count": 49,
   "id": "a46dc03c",
   "metadata": {},
   "outputs": [],
   "source": [
    "#tracks_popularity"
   ]
  },
  {
   "cell_type": "code",
   "execution_count": 50,
   "id": "f5510242",
   "metadata": {},
   "outputs": [
    {
     "data": {
      "text/html": [
       "<div>\n",
       "<style scoped>\n",
       "    .dataframe tbody tr th:only-of-type {\n",
       "        vertical-align: middle;\n",
       "    }\n",
       "\n",
       "    .dataframe tbody tr th {\n",
       "        vertical-align: top;\n",
       "    }\n",
       "\n",
       "    .dataframe thead th {\n",
       "        text-align: right;\n",
       "    }\n",
       "</style>\n",
       "<table border=\"1\" class=\"dataframe\">\n",
       "  <thead>\n",
       "    <tr style=\"text-align: right;\">\n",
       "      <th></th>\n",
       "      <th>track_id</th>\n",
       "      <th>popularity</th>\n",
       "    </tr>\n",
       "  </thead>\n",
       "  <tbody>\n",
       "    <tr>\n",
       "      <th>0</th>\n",
       "      <td>4cluDES4hQEUhmXj6TXkSo</td>\n",
       "      <td>81</td>\n",
       "    </tr>\n",
       "    <tr>\n",
       "      <th>1</th>\n",
       "      <td>3jJ5NJ3aNWvV70Rd7hgZIH</td>\n",
       "      <td>61</td>\n",
       "    </tr>\n",
       "    <tr>\n",
       "      <th>2</th>\n",
       "      <td>5G2c6FsfTzgYUzageCmfXY</td>\n",
       "      <td>71</td>\n",
       "    </tr>\n",
       "    <tr>\n",
       "      <th>3</th>\n",
       "      <td>0UAB340gAcSMk3r0a8PTag</td>\n",
       "      <td>63</td>\n",
       "    </tr>\n",
       "    <tr>\n",
       "      <th>4</th>\n",
       "      <td>1I93YiKgu2P5pwprWmziPI</td>\n",
       "      <td>62</td>\n",
       "    </tr>\n",
       "  </tbody>\n",
       "</table>\n",
       "</div>"
      ],
      "text/plain": [
       "                 track_id  popularity\n",
       "0  4cluDES4hQEUhmXj6TXkSo          81\n",
       "1  3jJ5NJ3aNWvV70Rd7hgZIH          61\n",
       "2  5G2c6FsfTzgYUzageCmfXY          71\n",
       "3  0UAB340gAcSMk3r0a8PTag          63\n",
       "4  1I93YiKgu2P5pwprWmziPI          62"
      ]
     },
     "execution_count": 50,
     "metadata": {},
     "output_type": "execute_result"
    }
   ],
   "source": [
    "pop_info_df = pd.DataFrame(tracks_popularity, columns = ['track_id', 'popularity'])\n",
    "pop_info_df.head()"
   ]
  },
  {
   "cell_type": "code",
   "execution_count": 51,
   "id": "b38311f7",
   "metadata": {},
   "outputs": [],
   "source": [
    "one_D_pop = all_track_info.merge(pop_info_df, how = 'left', on = 'track_id')"
   ]
  },
  {
   "cell_type": "code",
   "execution_count": 52,
   "id": "748f4c35",
   "metadata": {},
   "outputs": [],
   "source": [
    "one_D_pop = one_D_pop[['track_id', 'name', 'album','artist', 'danceability', 'energy', 'valence','tempo', 'popularity']]"
   ]
  },
  {
   "cell_type": "code",
   "execution_count": 53,
   "id": "02bceab4",
   "metadata": {},
   "outputs": [
    {
     "data": {
      "text/html": [
       "<div>\n",
       "<style scoped>\n",
       "    .dataframe tbody tr th:only-of-type {\n",
       "        vertical-align: middle;\n",
       "    }\n",
       "\n",
       "    .dataframe tbody tr th {\n",
       "        vertical-align: top;\n",
       "    }\n",
       "\n",
       "    .dataframe thead th {\n",
       "        text-align: right;\n",
       "    }\n",
       "</style>\n",
       "<table border=\"1\" class=\"dataframe\">\n",
       "  <thead>\n",
       "    <tr style=\"text-align: right;\">\n",
       "      <th></th>\n",
       "      <th>track_id</th>\n",
       "      <th>name</th>\n",
       "      <th>album</th>\n",
       "      <th>artist</th>\n",
       "      <th>danceability</th>\n",
       "      <th>energy</th>\n",
       "      <th>valence</th>\n",
       "      <th>tempo</th>\n",
       "      <th>popularity</th>\n",
       "    </tr>\n",
       "  </thead>\n",
       "  <tbody>\n",
       "    <tr>\n",
       "      <th>0</th>\n",
       "      <td>4cluDES4hQEUhmXj6TXkSo</td>\n",
       "      <td>What Makes You Beautiful</td>\n",
       "      <td>Up All Night</td>\n",
       "      <td>One Direction</td>\n",
       "      <td>0.726</td>\n",
       "      <td>0.787</td>\n",
       "      <td>0.888</td>\n",
       "      <td>124.990</td>\n",
       "      <td>81</td>\n",
       "    </tr>\n",
       "    <tr>\n",
       "      <th>1</th>\n",
       "      <td>3jJ5NJ3aNWvV70Rd7hgZIH</td>\n",
       "      <td>Gotta Be You</td>\n",
       "      <td>Up All Night</td>\n",
       "      <td>One Direction</td>\n",
       "      <td>0.495</td>\n",
       "      <td>0.583</td>\n",
       "      <td>0.603</td>\n",
       "      <td>84.969</td>\n",
       "      <td>61</td>\n",
       "    </tr>\n",
       "    <tr>\n",
       "      <th>2</th>\n",
       "      <td>5G2c6FsfTzgYUzageCmfXY</td>\n",
       "      <td>One Thing</td>\n",
       "      <td>Up All Night</td>\n",
       "      <td>One Direction</td>\n",
       "      <td>0.713</td>\n",
       "      <td>0.718</td>\n",
       "      <td>0.656</td>\n",
       "      <td>126.999</td>\n",
       "      <td>71</td>\n",
       "    </tr>\n",
       "    <tr>\n",
       "      <th>3</th>\n",
       "      <td>0UAB340gAcSMk3r0a8PTag</td>\n",
       "      <td>More Than This</td>\n",
       "      <td>Up All Night</td>\n",
       "      <td>One Direction</td>\n",
       "      <td>0.498</td>\n",
       "      <td>0.715</td>\n",
       "      <td>0.225</td>\n",
       "      <td>151.809</td>\n",
       "      <td>63</td>\n",
       "    </tr>\n",
       "    <tr>\n",
       "      <th>4</th>\n",
       "      <td>1I93YiKgu2P5pwprWmziPI</td>\n",
       "      <td>Up All Night</td>\n",
       "      <td>Up All Night</td>\n",
       "      <td>One Direction</td>\n",
       "      <td>0.606</td>\n",
       "      <td>0.929</td>\n",
       "      <td>0.622</td>\n",
       "      <td>139.022</td>\n",
       "      <td>62</td>\n",
       "    </tr>\n",
       "  </tbody>\n",
       "</table>\n",
       "</div>"
      ],
      "text/plain": [
       "                 track_id                      name         album  \\\n",
       "0  4cluDES4hQEUhmXj6TXkSo  What Makes You Beautiful  Up All Night   \n",
       "1  3jJ5NJ3aNWvV70Rd7hgZIH              Gotta Be You  Up All Night   \n",
       "2  5G2c6FsfTzgYUzageCmfXY                 One Thing  Up All Night   \n",
       "3  0UAB340gAcSMk3r0a8PTag            More Than This  Up All Night   \n",
       "4  1I93YiKgu2P5pwprWmziPI              Up All Night  Up All Night   \n",
       "\n",
       "          artist  danceability  energy  valence    tempo  popularity  \n",
       "0  One Direction         0.726   0.787    0.888  124.990          81  \n",
       "1  One Direction         0.495   0.583    0.603   84.969          61  \n",
       "2  One Direction         0.713   0.718    0.656  126.999          71  \n",
       "3  One Direction         0.498   0.715    0.225  151.809          63  \n",
       "4  One Direction         0.606   0.929    0.622  139.022          62  "
      ]
     },
     "execution_count": 53,
     "metadata": {},
     "output_type": "execute_result"
    }
   ],
   "source": [
    "one_D_pop.head()"
   ]
  },
  {
   "cell_type": "code",
   "execution_count": 54,
   "id": "61d84dd9",
   "metadata": {},
   "outputs": [],
   "source": [
    "one_D_pop['Dance100']= one_D_pop['danceability']*100"
   ]
  },
  {
   "cell_type": "code",
   "execution_count": 55,
   "id": "729b313d",
   "metadata": {},
   "outputs": [
    {
     "data": {
      "text/html": [
       "<div>\n",
       "<style scoped>\n",
       "    .dataframe tbody tr th:only-of-type {\n",
       "        vertical-align: middle;\n",
       "    }\n",
       "\n",
       "    .dataframe tbody tr th {\n",
       "        vertical-align: top;\n",
       "    }\n",
       "\n",
       "    .dataframe thead th {\n",
       "        text-align: right;\n",
       "    }\n",
       "</style>\n",
       "<table border=\"1\" class=\"dataframe\">\n",
       "  <thead>\n",
       "    <tr style=\"text-align: right;\">\n",
       "      <th></th>\n",
       "      <th>track_id</th>\n",
       "      <th>name</th>\n",
       "      <th>album</th>\n",
       "      <th>artist</th>\n",
       "      <th>danceability</th>\n",
       "      <th>energy</th>\n",
       "      <th>valence</th>\n",
       "      <th>tempo</th>\n",
       "      <th>popularity</th>\n",
       "      <th>Dance100</th>\n",
       "    </tr>\n",
       "  </thead>\n",
       "  <tbody>\n",
       "    <tr>\n",
       "      <th>0</th>\n",
       "      <td>4cluDES4hQEUhmXj6TXkSo</td>\n",
       "      <td>What Makes You Beautiful</td>\n",
       "      <td>Up All Night</td>\n",
       "      <td>One Direction</td>\n",
       "      <td>0.726</td>\n",
       "      <td>0.787</td>\n",
       "      <td>0.888</td>\n",
       "      <td>124.990</td>\n",
       "      <td>81</td>\n",
       "      <td>72.6</td>\n",
       "    </tr>\n",
       "    <tr>\n",
       "      <th>1</th>\n",
       "      <td>3jJ5NJ3aNWvV70Rd7hgZIH</td>\n",
       "      <td>Gotta Be You</td>\n",
       "      <td>Up All Night</td>\n",
       "      <td>One Direction</td>\n",
       "      <td>0.495</td>\n",
       "      <td>0.583</td>\n",
       "      <td>0.603</td>\n",
       "      <td>84.969</td>\n",
       "      <td>61</td>\n",
       "      <td>49.5</td>\n",
       "    </tr>\n",
       "    <tr>\n",
       "      <th>2</th>\n",
       "      <td>5G2c6FsfTzgYUzageCmfXY</td>\n",
       "      <td>One Thing</td>\n",
       "      <td>Up All Night</td>\n",
       "      <td>One Direction</td>\n",
       "      <td>0.713</td>\n",
       "      <td>0.718</td>\n",
       "      <td>0.656</td>\n",
       "      <td>126.999</td>\n",
       "      <td>71</td>\n",
       "      <td>71.3</td>\n",
       "    </tr>\n",
       "    <tr>\n",
       "      <th>3</th>\n",
       "      <td>0UAB340gAcSMk3r0a8PTag</td>\n",
       "      <td>More Than This</td>\n",
       "      <td>Up All Night</td>\n",
       "      <td>One Direction</td>\n",
       "      <td>0.498</td>\n",
       "      <td>0.715</td>\n",
       "      <td>0.225</td>\n",
       "      <td>151.809</td>\n",
       "      <td>63</td>\n",
       "      <td>49.8</td>\n",
       "    </tr>\n",
       "    <tr>\n",
       "      <th>4</th>\n",
       "      <td>1I93YiKgu2P5pwprWmziPI</td>\n",
       "      <td>Up All Night</td>\n",
       "      <td>Up All Night</td>\n",
       "      <td>One Direction</td>\n",
       "      <td>0.606</td>\n",
       "      <td>0.929</td>\n",
       "      <td>0.622</td>\n",
       "      <td>139.022</td>\n",
       "      <td>62</td>\n",
       "      <td>60.6</td>\n",
       "    </tr>\n",
       "  </tbody>\n",
       "</table>\n",
       "</div>"
      ],
      "text/plain": [
       "                 track_id                      name         album  \\\n",
       "0  4cluDES4hQEUhmXj6TXkSo  What Makes You Beautiful  Up All Night   \n",
       "1  3jJ5NJ3aNWvV70Rd7hgZIH              Gotta Be You  Up All Night   \n",
       "2  5G2c6FsfTzgYUzageCmfXY                 One Thing  Up All Night   \n",
       "3  0UAB340gAcSMk3r0a8PTag            More Than This  Up All Night   \n",
       "4  1I93YiKgu2P5pwprWmziPI              Up All Night  Up All Night   \n",
       "\n",
       "          artist  danceability  energy  valence    tempo  popularity  Dance100  \n",
       "0  One Direction         0.726   0.787    0.888  124.990          81      72.6  \n",
       "1  One Direction         0.495   0.583    0.603   84.969          61      49.5  \n",
       "2  One Direction         0.713   0.718    0.656  126.999          71      71.3  \n",
       "3  One Direction         0.498   0.715    0.225  151.809          63      49.8  \n",
       "4  One Direction         0.606   0.929    0.622  139.022          62      60.6  "
      ]
     },
     "execution_count": 55,
     "metadata": {},
     "output_type": "execute_result"
    }
   ],
   "source": [
    "one_D_pop.head()"
   ]
  },
  {
   "cell_type": "code",
   "execution_count": 56,
   "id": "03147322",
   "metadata": {},
   "outputs": [],
   "source": [
    "one_D_pop['Energy100']= one_D_pop['energy']*100\n",
    "one_D_pop['Valence100']= one_D_pop['valence']*100"
   ]
  },
  {
   "cell_type": "code",
   "execution_count": 57,
   "id": "fab1f146",
   "metadata": {
    "scrolled": true
   },
   "outputs": [
    {
     "data": {
      "text/html": [
       "<div>\n",
       "<style scoped>\n",
       "    .dataframe tbody tr th:only-of-type {\n",
       "        vertical-align: middle;\n",
       "    }\n",
       "\n",
       "    .dataframe tbody tr th {\n",
       "        vertical-align: top;\n",
       "    }\n",
       "\n",
       "    .dataframe thead th {\n",
       "        text-align: right;\n",
       "    }\n",
       "</style>\n",
       "<table border=\"1\" class=\"dataframe\">\n",
       "  <thead>\n",
       "    <tr style=\"text-align: right;\">\n",
       "      <th></th>\n",
       "      <th>track_id</th>\n",
       "      <th>name</th>\n",
       "      <th>album</th>\n",
       "      <th>artist</th>\n",
       "      <th>danceability</th>\n",
       "      <th>energy</th>\n",
       "      <th>valence</th>\n",
       "      <th>tempo</th>\n",
       "      <th>popularity</th>\n",
       "      <th>Dance100</th>\n",
       "      <th>Energy100</th>\n",
       "      <th>Valence100</th>\n",
       "    </tr>\n",
       "  </thead>\n",
       "  <tbody>\n",
       "    <tr>\n",
       "      <th>0</th>\n",
       "      <td>4cluDES4hQEUhmXj6TXkSo</td>\n",
       "      <td>What Makes You Beautiful</td>\n",
       "      <td>Up All Night</td>\n",
       "      <td>One Direction</td>\n",
       "      <td>0.726</td>\n",
       "      <td>0.787</td>\n",
       "      <td>0.888</td>\n",
       "      <td>124.990</td>\n",
       "      <td>81</td>\n",
       "      <td>72.6</td>\n",
       "      <td>78.7</td>\n",
       "      <td>88.8</td>\n",
       "    </tr>\n",
       "    <tr>\n",
       "      <th>1</th>\n",
       "      <td>3jJ5NJ3aNWvV70Rd7hgZIH</td>\n",
       "      <td>Gotta Be You</td>\n",
       "      <td>Up All Night</td>\n",
       "      <td>One Direction</td>\n",
       "      <td>0.495</td>\n",
       "      <td>0.583</td>\n",
       "      <td>0.603</td>\n",
       "      <td>84.969</td>\n",
       "      <td>61</td>\n",
       "      <td>49.5</td>\n",
       "      <td>58.3</td>\n",
       "      <td>60.3</td>\n",
       "    </tr>\n",
       "    <tr>\n",
       "      <th>2</th>\n",
       "      <td>5G2c6FsfTzgYUzageCmfXY</td>\n",
       "      <td>One Thing</td>\n",
       "      <td>Up All Night</td>\n",
       "      <td>One Direction</td>\n",
       "      <td>0.713</td>\n",
       "      <td>0.718</td>\n",
       "      <td>0.656</td>\n",
       "      <td>126.999</td>\n",
       "      <td>71</td>\n",
       "      <td>71.3</td>\n",
       "      <td>71.8</td>\n",
       "      <td>65.6</td>\n",
       "    </tr>\n",
       "    <tr>\n",
       "      <th>3</th>\n",
       "      <td>0UAB340gAcSMk3r0a8PTag</td>\n",
       "      <td>More Than This</td>\n",
       "      <td>Up All Night</td>\n",
       "      <td>One Direction</td>\n",
       "      <td>0.498</td>\n",
       "      <td>0.715</td>\n",
       "      <td>0.225</td>\n",
       "      <td>151.809</td>\n",
       "      <td>63</td>\n",
       "      <td>49.8</td>\n",
       "      <td>71.5</td>\n",
       "      <td>22.5</td>\n",
       "    </tr>\n",
       "    <tr>\n",
       "      <th>4</th>\n",
       "      <td>1I93YiKgu2P5pwprWmziPI</td>\n",
       "      <td>Up All Night</td>\n",
       "      <td>Up All Night</td>\n",
       "      <td>One Direction</td>\n",
       "      <td>0.606</td>\n",
       "      <td>0.929</td>\n",
       "      <td>0.622</td>\n",
       "      <td>139.022</td>\n",
       "      <td>62</td>\n",
       "      <td>60.6</td>\n",
       "      <td>92.9</td>\n",
       "      <td>62.2</td>\n",
       "    </tr>\n",
       "  </tbody>\n",
       "</table>\n",
       "</div>"
      ],
      "text/plain": [
       "                 track_id                      name         album  \\\n",
       "0  4cluDES4hQEUhmXj6TXkSo  What Makes You Beautiful  Up All Night   \n",
       "1  3jJ5NJ3aNWvV70Rd7hgZIH              Gotta Be You  Up All Night   \n",
       "2  5G2c6FsfTzgYUzageCmfXY                 One Thing  Up All Night   \n",
       "3  0UAB340gAcSMk3r0a8PTag            More Than This  Up All Night   \n",
       "4  1I93YiKgu2P5pwprWmziPI              Up All Night  Up All Night   \n",
       "\n",
       "          artist  danceability  energy  valence    tempo  popularity  \\\n",
       "0  One Direction         0.726   0.787    0.888  124.990          81   \n",
       "1  One Direction         0.495   0.583    0.603   84.969          61   \n",
       "2  One Direction         0.713   0.718    0.656  126.999          71   \n",
       "3  One Direction         0.498   0.715    0.225  151.809          63   \n",
       "4  One Direction         0.606   0.929    0.622  139.022          62   \n",
       "\n",
       "   Dance100  Energy100  Valence100  \n",
       "0      72.6       78.7        88.8  \n",
       "1      49.5       58.3        60.3  \n",
       "2      71.3       71.8        65.6  \n",
       "3      49.8       71.5        22.5  \n",
       "4      60.6       92.9        62.2  "
      ]
     },
     "execution_count": 57,
     "metadata": {},
     "output_type": "execute_result"
    }
   ],
   "source": [
    "one_D_pop.head()"
   ]
  },
  {
   "cell_type": "markdown",
   "id": "b26f65f7",
   "metadata": {},
   "source": [
    "### Correlation of Popularity with Danceability, Energy, adn Valence"
   ]
  },
  {
   "cell_type": "code",
   "execution_count": 58,
   "id": "5cd12479",
   "metadata": {},
   "outputs": [
    {
     "data": {
      "text/plain": [
       "<AxesSubplot:xlabel='popularity', ylabel='Dance100'>"
      ]
     },
     "execution_count": 58,
     "metadata": {},
     "output_type": "execute_result"
    },
    {
     "data": {
      "image/png": "[encoded data removed]",
      "text/plain": [
       "<Figure size 432x288 with 1 Axes>"
      ]
     },
     "metadata": {
      "needs_background": "light"
     },
     "output_type": "display_data"
    }
   ],
   "source": [
    "sns.scatterplot(data=one_D_pop, x=\"popularity\", y=\"Dance100\", hue = 'album')"
   ]
  },
  {
   "cell_type": "code",
   "execution_count": 59,
   "id": "024d2966",
   "metadata": {},
   "outputs": [
    {
     "data": {
      "text/plain": [
       "<AxesSubplot:xlabel='popularity', ylabel='Energy100'>"
      ]
     },
     "execution_count": 59,
     "metadata": {},
     "output_type": "execute_result"
    },
    {
     "data": {
      "image/png": "[encoded data removed]",
      "text/plain": [
       "<Figure size 432x288 with 1 Axes>"
      ]
     },
     "metadata": {
      "needs_background": "light"
     },
     "output_type": "display_data"
    }
   ],
   "source": [
    "sns.scatterplot(data=one_D_pop, x=\"popularity\", y=\"Energy100\", hue = \"album\")"
   ]
  },
  {
   "cell_type": "code",
   "execution_count": 60,
   "id": "b4740b28",
   "metadata": {},
   "outputs": [
    {
     "data": {
      "text/plain": [
       "<AxesSubplot:xlabel='popularity', ylabel='Valence100'>"
      ]
     },
     "execution_count": 60,
     "metadata": {},
     "output_type": "execute_result"
    },
    {
     "data": {
      "image/png": "[encoded data removed]",
      "text/plain": [
       "<Figure size 432x288 with 1 Axes>"
      ]
     },
     "metadata": {
      "needs_background": "light"
     },
     "output_type": "display_data"
    }
   ],
   "source": [
    "sns.scatterplot(data=one_D_pop, x=\"popularity\", y=\"Valence100\", hue = \"album\")"
   ]
  },
  {
   "cell_type": "markdown",
   "id": "5a66eeee",
   "metadata": {},
   "source": [
    "### Top Ten Most Popular Songs"
   ]
  },
  {
   "cell_type": "code",
   "execution_count": 61,
   "id": "eb25c62a",
   "metadata": {},
   "outputs": [
    {
     "data": {
      "text/html": [
       "<div>\n",
       "<style scoped>\n",
       "    .dataframe tbody tr th:only-of-type {\n",
       "        vertical-align: middle;\n",
       "    }\n",
       "\n",
       "    .dataframe tbody tr th {\n",
       "        vertical-align: top;\n",
       "    }\n",
       "\n",
       "    .dataframe thead th {\n",
       "        text-align: right;\n",
       "    }\n",
       "</style>\n",
       "<table border=\"1\" class=\"dataframe\">\n",
       "  <thead>\n",
       "    <tr style=\"text-align: right;\">\n",
       "      <th></th>\n",
       "      <th>track_id</th>\n",
       "      <th>name</th>\n",
       "      <th>album</th>\n",
       "      <th>artist</th>\n",
       "      <th>danceability</th>\n",
       "      <th>energy</th>\n",
       "      <th>valence</th>\n",
       "      <th>tempo</th>\n",
       "      <th>popularity</th>\n",
       "      <th>Dance100</th>\n",
       "      <th>Energy100</th>\n",
       "      <th>Valence100</th>\n",
       "    </tr>\n",
       "  </thead>\n",
       "  <tbody>\n",
       "    <tr>\n",
       "      <th>62</th>\n",
       "      <td>5O2P9iiztwhomNh8xkR9lJ</td>\n",
       "      <td>Night Changes</td>\n",
       "      <td>FOUR (Deluxe)</td>\n",
       "      <td>One Direction</td>\n",
       "      <td>0.672</td>\n",
       "      <td>0.520</td>\n",
       "      <td>0.370</td>\n",
       "      <td>120.001</td>\n",
       "      <td>82</td>\n",
       "      <td>67.2</td>\n",
       "      <td>52.0</td>\n",
       "      <td>37.0</td>\n",
       "    </tr>\n",
       "    <tr>\n",
       "      <th>0</th>\n",
       "      <td>4cluDES4hQEUhmXj6TXkSo</td>\n",
       "      <td>What Makes You Beautiful</td>\n",
       "      <td>Up All Night</td>\n",
       "      <td>One Direction</td>\n",
       "      <td>0.726</td>\n",
       "      <td>0.787</td>\n",
       "      <td>0.888</td>\n",
       "      <td>124.990</td>\n",
       "      <td>81</td>\n",
       "      <td>72.6</td>\n",
       "      <td>78.7</td>\n",
       "      <td>88.8</td>\n",
       "    </tr>\n",
       "    <tr>\n",
       "      <th>39</th>\n",
       "      <td>4nVBt6MZDDP6tRVdQTgxJg</td>\n",
       "      <td>Story of My Life</td>\n",
       "      <td>Midnight Memories (Deluxe)</td>\n",
       "      <td>One Direction</td>\n",
       "      <td>0.600</td>\n",
       "      <td>0.663</td>\n",
       "      <td>0.286</td>\n",
       "      <td>121.070</td>\n",
       "      <td>80</td>\n",
       "      <td>60.0</td>\n",
       "      <td>66.3</td>\n",
       "      <td>28.6</td>\n",
       "    </tr>\n",
       "    <tr>\n",
       "      <th>73</th>\n",
       "      <td>2K87XMYnUMqLcX3zvtAF4G</td>\n",
       "      <td>Drag Me Down</td>\n",
       "      <td>Made In The A.M. (Deluxe Edition)</td>\n",
       "      <td>One Direction</td>\n",
       "      <td>0.730</td>\n",
       "      <td>0.703</td>\n",
       "      <td>0.595</td>\n",
       "      <td>138.113</td>\n",
       "      <td>78</td>\n",
       "      <td>73.0</td>\n",
       "      <td>70.3</td>\n",
       "      <td>59.5</td>\n",
       "    </tr>\n",
       "    <tr>\n",
       "      <th>56</th>\n",
       "      <td>2Bs4jQEGMycglOfWPBqrVG</td>\n",
       "      <td>Steal My Girl</td>\n",
       "      <td>FOUR (Deluxe)</td>\n",
       "      <td>One Direction</td>\n",
       "      <td>0.536</td>\n",
       "      <td>0.768</td>\n",
       "      <td>0.545</td>\n",
       "      <td>77.217</td>\n",
       "      <td>78</td>\n",
       "      <td>53.6</td>\n",
       "      <td>76.8</td>\n",
       "      <td>54.5</td>\n",
       "    </tr>\n",
       "    <tr>\n",
       "      <th>74</th>\n",
       "      <td>3NLnwwAQbbFKcEcV8hDItk</td>\n",
       "      <td>Perfect</td>\n",
       "      <td>Made In The A.M. (Deluxe Edition)</td>\n",
       "      <td>One Direction</td>\n",
       "      <td>0.647</td>\n",
       "      <td>0.823</td>\n",
       "      <td>0.396</td>\n",
       "      <td>99.933</td>\n",
       "      <td>76</td>\n",
       "      <td>64.7</td>\n",
       "      <td>82.3</td>\n",
       "      <td>39.6</td>\n",
       "    </tr>\n",
       "    <tr>\n",
       "      <th>38</th>\n",
       "      <td>5T7ZFtCcOgkpjxcuaeZbw0</td>\n",
       "      <td>Best Song Ever</td>\n",
       "      <td>Midnight Memories (Deluxe)</td>\n",
       "      <td>One Direction</td>\n",
       "      <td>0.652</td>\n",
       "      <td>0.877</td>\n",
       "      <td>0.486</td>\n",
       "      <td>118.491</td>\n",
       "      <td>75</td>\n",
       "      <td>65.2</td>\n",
       "      <td>87.7</td>\n",
       "      <td>48.6</td>\n",
       "    </tr>\n",
       "    <tr>\n",
       "      <th>59</th>\n",
       "      <td>3JjnGLK8IxkNLvo8Lb3KOM</td>\n",
       "      <td>18</td>\n",
       "      <td>FOUR (Deluxe)</td>\n",
       "      <td>One Direction</td>\n",
       "      <td>0.681</td>\n",
       "      <td>0.582</td>\n",
       "      <td>0.221</td>\n",
       "      <td>124.038</td>\n",
       "      <td>75</td>\n",
       "      <td>68.1</td>\n",
       "      <td>58.2</td>\n",
       "      <td>22.1</td>\n",
       "    </tr>\n",
       "    <tr>\n",
       "      <th>42</th>\n",
       "      <td>2afCBiru10AFckfOa49wIa</td>\n",
       "      <td>You &amp; I</td>\n",
       "      <td>Midnight Memories (Deluxe)</td>\n",
       "      <td>One Direction</td>\n",
       "      <td>0.574</td>\n",
       "      <td>0.329</td>\n",
       "      <td>0.356</td>\n",
       "      <td>130.993</td>\n",
       "      <td>75</td>\n",
       "      <td>57.4</td>\n",
       "      <td>32.9</td>\n",
       "      <td>35.6</td>\n",
       "    </tr>\n",
       "    <tr>\n",
       "      <th>29</th>\n",
       "      <td>6M31fPFCYB8Job3MCjjrDV</td>\n",
       "      <td>They Don't Know About Us</td>\n",
       "      <td>Take Me Home (Expanded Edition)</td>\n",
       "      <td>One Direction</td>\n",
       "      <td>0.514</td>\n",
       "      <td>0.727</td>\n",
       "      <td>0.370</td>\n",
       "      <td>147.917</td>\n",
       "      <td>75</td>\n",
       "      <td>51.4</td>\n",
       "      <td>72.7</td>\n",
       "      <td>37.0</td>\n",
       "    </tr>\n",
       "  </tbody>\n",
       "</table>\n",
       "</div>"
      ],
      "text/plain": [
       "                  track_id                      name  \\\n",
       "62  5O2P9iiztwhomNh8xkR9lJ             Night Changes   \n",
       "0   4cluDES4hQEUhmXj6TXkSo  What Makes You Beautiful   \n",
       "39  4nVBt6MZDDP6tRVdQTgxJg          Story of My Life   \n",
       "73  2K87XMYnUMqLcX3zvtAF4G              Drag Me Down   \n",
       "56  2Bs4jQEGMycglOfWPBqrVG             Steal My Girl   \n",
       "74  3NLnwwAQbbFKcEcV8hDItk                   Perfect   \n",
       "38  5T7ZFtCcOgkpjxcuaeZbw0            Best Song Ever   \n",
       "59  3JjnGLK8IxkNLvo8Lb3KOM                        18   \n",
       "42  2afCBiru10AFckfOa49wIa                   You & I   \n",
       "29  6M31fPFCYB8Job3MCjjrDV  They Don't Know About Us   \n",
       "\n",
       "                                album         artist  danceability  energy  \\\n",
       "62                      FOUR (Deluxe)  One Direction         0.672   0.520   \n",
       "0                        Up All Night  One Direction         0.726   0.787   \n",
       "39         Midnight Memories (Deluxe)  One Direction         0.600   0.663   \n",
       "73  Made In The A.M. (Deluxe Edition)  One Direction         0.730   0.703   \n",
       "56                      FOUR (Deluxe)  One Direction         0.536   0.768   \n",
       "74  Made In The A.M. (Deluxe Edition)  One Direction         0.647   0.823   \n",
       "38         Midnight Memories (Deluxe)  One Direction         0.652   0.877   \n",
       "59                      FOUR (Deluxe)  One Direction         0.681   0.582   \n",
       "42         Midnight Memories (Deluxe)  One Direction         0.574   0.329   \n",
       "29    Take Me Home (Expanded Edition)  One Direction         0.514   0.727   \n",
       "\n",
       "    valence    tempo  popularity  Dance100  Energy100  Valence100  \n",
       "62    0.370  120.001          82      67.2       52.0        37.0  \n",
       "0     0.888  124.990          81      72.6       78.7        88.8  \n",
       "39    0.286  121.070          80      60.0       66.3        28.6  \n",
       "73    0.595  138.113          78      73.0       70.3        59.5  \n",
       "56    0.545   77.217          78      53.6       76.8        54.5  \n",
       "74    0.396   99.933          76      64.7       82.3        39.6  \n",
       "38    0.486  118.491          75      65.2       87.7        48.6  \n",
       "59    0.221  124.038          75      68.1       58.2        22.1  \n",
       "42    0.356  130.993          75      57.4       32.9        35.6  \n",
       "29    0.370  147.917          75      51.4       72.7        37.0  "
      ]
     },
     "execution_count": 61,
     "metadata": {},
     "output_type": "execute_result"
    }
   ],
   "source": [
    "pop_sort = one_D_pop.sort_values(by = 'popularity', ascending = False)\n",
    "pop_sort.head(10)\n"
   ]
  },
  {
   "cell_type": "markdown",
   "id": "2b0f3f45",
   "metadata": {},
   "source": [
    "### Most Popular Song on Each Album"
   ]
  },
  {
   "cell_type": "code",
   "execution_count": 62,
   "id": "13201be5",
   "metadata": {},
   "outputs": [],
   "source": [
    "#df.sort_values(by=['col1', 'col2'])\n",
    "sort_by_album = one_D_pop.sort_values(by = ['album','popularity'], ascending = False)"
   ]
  },
  {
   "cell_type": "code",
   "execution_count": 63,
   "id": "27004077",
   "metadata": {},
   "outputs": [
    {
     "data": {
      "text/html": [
       "<div>\n",
       "<style scoped>\n",
       "    .dataframe tbody tr th:only-of-type {\n",
       "        vertical-align: middle;\n",
       "    }\n",
       "\n",
       "    .dataframe tbody tr th {\n",
       "        vertical-align: top;\n",
       "    }\n",
       "\n",
       "    .dataframe thead th {\n",
       "        text-align: right;\n",
       "    }\n",
       "</style>\n",
       "<table border=\"1\" class=\"dataframe\">\n",
       "  <thead>\n",
       "    <tr style=\"text-align: right;\">\n",
       "      <th></th>\n",
       "      <th>track_id</th>\n",
       "      <th>name</th>\n",
       "      <th>album</th>\n",
       "      <th>artist</th>\n",
       "      <th>danceability</th>\n",
       "      <th>energy</th>\n",
       "      <th>valence</th>\n",
       "      <th>tempo</th>\n",
       "      <th>popularity</th>\n",
       "      <th>Dance100</th>\n",
       "      <th>Energy100</th>\n",
       "      <th>Valence100</th>\n",
       "    </tr>\n",
       "  </thead>\n",
       "  <tbody>\n",
       "    <tr>\n",
       "      <th>0</th>\n",
       "      <td>4cluDES4hQEUhmXj6TXkSo</td>\n",
       "      <td>What Makes You Beautiful</td>\n",
       "      <td>Up All Night</td>\n",
       "      <td>One Direction</td>\n",
       "      <td>0.726</td>\n",
       "      <td>0.787</td>\n",
       "      <td>0.888</td>\n",
       "      <td>124.990</td>\n",
       "      <td>81</td>\n",
       "      <td>72.6</td>\n",
       "      <td>78.7</td>\n",
       "      <td>88.8</td>\n",
       "    </tr>\n",
       "    <tr>\n",
       "      <th>2</th>\n",
       "      <td>5G2c6FsfTzgYUzageCmfXY</td>\n",
       "      <td>One Thing</td>\n",
       "      <td>Up All Night</td>\n",
       "      <td>One Direction</td>\n",
       "      <td>0.713</td>\n",
       "      <td>0.718</td>\n",
       "      <td>0.656</td>\n",
       "      <td>126.999</td>\n",
       "      <td>71</td>\n",
       "      <td>71.3</td>\n",
       "      <td>71.8</td>\n",
       "      <td>65.6</td>\n",
       "    </tr>\n",
       "    <tr>\n",
       "      <th>3</th>\n",
       "      <td>0UAB340gAcSMk3r0a8PTag</td>\n",
       "      <td>More Than This</td>\n",
       "      <td>Up All Night</td>\n",
       "      <td>One Direction</td>\n",
       "      <td>0.498</td>\n",
       "      <td>0.715</td>\n",
       "      <td>0.225</td>\n",
       "      <td>151.809</td>\n",
       "      <td>63</td>\n",
       "      <td>49.8</td>\n",
       "      <td>71.5</td>\n",
       "      <td>22.5</td>\n",
       "    </tr>\n",
       "    <tr>\n",
       "      <th>4</th>\n",
       "      <td>1I93YiKgu2P5pwprWmziPI</td>\n",
       "      <td>Up All Night</td>\n",
       "      <td>Up All Night</td>\n",
       "      <td>One Direction</td>\n",
       "      <td>0.606</td>\n",
       "      <td>0.929</td>\n",
       "      <td>0.622</td>\n",
       "      <td>139.022</td>\n",
       "      <td>62</td>\n",
       "      <td>60.6</td>\n",
       "      <td>92.9</td>\n",
       "      <td>62.2</td>\n",
       "    </tr>\n",
       "    <tr>\n",
       "      <th>1</th>\n",
       "      <td>3jJ5NJ3aNWvV70Rd7hgZIH</td>\n",
       "      <td>Gotta Be You</td>\n",
       "      <td>Up All Night</td>\n",
       "      <td>One Direction</td>\n",
       "      <td>0.495</td>\n",
       "      <td>0.583</td>\n",
       "      <td>0.603</td>\n",
       "      <td>84.969</td>\n",
       "      <td>61</td>\n",
       "      <td>49.5</td>\n",
       "      <td>58.3</td>\n",
       "      <td>60.3</td>\n",
       "    </tr>\n",
       "    <tr>\n",
       "      <th>14</th>\n",
       "      <td>3MxJGBnYaP4yQYUv90HLqZ</td>\n",
       "      <td>Moments</td>\n",
       "      <td>Up All Night</td>\n",
       "      <td>One Direction</td>\n",
       "      <td>0.474</td>\n",
       "      <td>0.739</td>\n",
       "      <td>0.253</td>\n",
       "      <td>149.894</td>\n",
       "      <td>60</td>\n",
       "      <td>47.4</td>\n",
       "      <td>73.9</td>\n",
       "      <td>25.3</td>\n",
       "    </tr>\n",
       "    <tr>\n",
       "      <th>5</th>\n",
       "      <td>5bODPM8nTwwTIE4W9fuUcC</td>\n",
       "      <td>I Wish</td>\n",
       "      <td>Up All Night</td>\n",
       "      <td>One Direction</td>\n",
       "      <td>0.620</td>\n",
       "      <td>0.872</td>\n",
       "      <td>0.299</td>\n",
       "      <td>124.044</td>\n",
       "      <td>58</td>\n",
       "      <td>62.0</td>\n",
       "      <td>87.2</td>\n",
       "      <td>29.9</td>\n",
       "    </tr>\n",
       "    <tr>\n",
       "      <th>7</th>\n",
       "      <td>4K0M12PIWJjA4H0NAP142y</td>\n",
       "      <td>Taken</td>\n",
       "      <td>Up All Night</td>\n",
       "      <td>One Direction</td>\n",
       "      <td>0.507</td>\n",
       "      <td>0.868</td>\n",
       "      <td>0.684</td>\n",
       "      <td>95.035</td>\n",
       "      <td>58</td>\n",
       "      <td>50.7</td>\n",
       "      <td>86.8</td>\n",
       "      <td>68.4</td>\n",
       "    </tr>\n",
       "    <tr>\n",
       "      <th>8</th>\n",
       "      <td>5MIMD5WMooNWe8QsMqCrE8</td>\n",
       "      <td>I Want</td>\n",
       "      <td>Up All Night</td>\n",
       "      <td>One Direction</td>\n",
       "      <td>0.674</td>\n",
       "      <td>0.814</td>\n",
       "      <td>0.491</td>\n",
       "      <td>128.092</td>\n",
       "      <td>57</td>\n",
       "      <td>67.4</td>\n",
       "      <td>81.4</td>\n",
       "      <td>49.1</td>\n",
       "    </tr>\n",
       "    <tr>\n",
       "      <th>13</th>\n",
       "      <td>147ximWPJObFNQ4M1AhFox</td>\n",
       "      <td>Stand Up</td>\n",
       "      <td>Up All Night</td>\n",
       "      <td>One Direction</td>\n",
       "      <td>0.584</td>\n",
       "      <td>0.900</td>\n",
       "      <td>0.893</td>\n",
       "      <td>125.007</td>\n",
       "      <td>57</td>\n",
       "      <td>58.4</td>\n",
       "      <td>90.0</td>\n",
       "      <td>89.3</td>\n",
       "    </tr>\n",
       "  </tbody>\n",
       "</table>\n",
       "</div>"
      ],
      "text/plain": [
       "                  track_id                      name         album  \\\n",
       "0   4cluDES4hQEUhmXj6TXkSo  What Makes You Beautiful  Up All Night   \n",
       "2   5G2c6FsfTzgYUzageCmfXY                 One Thing  Up All Night   \n",
       "3   0UAB340gAcSMk3r0a8PTag            More Than This  Up All Night   \n",
       "4   1I93YiKgu2P5pwprWmziPI              Up All Night  Up All Night   \n",
       "1   3jJ5NJ3aNWvV70Rd7hgZIH              Gotta Be You  Up All Night   \n",
       "14  3MxJGBnYaP4yQYUv90HLqZ                   Moments  Up All Night   \n",
       "5   5bODPM8nTwwTIE4W9fuUcC                    I Wish  Up All Night   \n",
       "7   4K0M12PIWJjA4H0NAP142y                     Taken  Up All Night   \n",
       "8   5MIMD5WMooNWe8QsMqCrE8                    I Want  Up All Night   \n",
       "13  147ximWPJObFNQ4M1AhFox                  Stand Up  Up All Night   \n",
       "\n",
       "           artist  danceability  energy  valence    tempo  popularity  \\\n",
       "0   One Direction         0.726   0.787    0.888  124.990          81   \n",
       "2   One Direction         0.713   0.718    0.656  126.999          71   \n",
       "3   One Direction         0.498   0.715    0.225  151.809          63   \n",
       "4   One Direction         0.606   0.929    0.622  139.022          62   \n",
       "1   One Direction         0.495   0.583    0.603   84.969          61   \n",
       "14  One Direction         0.474   0.739    0.253  149.894          60   \n",
       "5   One Direction         0.620   0.872    0.299  124.044          58   \n",
       "7   One Direction         0.507   0.868    0.684   95.035          58   \n",
       "8   One Direction         0.674   0.814    0.491  128.092          57   \n",
       "13  One Direction         0.584   0.900    0.893  125.007          57   \n",
       "\n",
       "    Dance100  Energy100  Valence100  \n",
       "0       72.6       78.7        88.8  \n",
       "2       71.3       71.8        65.6  \n",
       "3       49.8       71.5        22.5  \n",
       "4       60.6       92.9        62.2  \n",
       "1       49.5       58.3        60.3  \n",
       "14      47.4       73.9        25.3  \n",
       "5       62.0       87.2        29.9  \n",
       "7       50.7       86.8        68.4  \n",
       "8       67.4       81.4        49.1  \n",
       "13      58.4       90.0        89.3  "
      ]
     },
     "execution_count": 63,
     "metadata": {},
     "output_type": "execute_result"
    }
   ],
   "source": [
    "sort_by_album.head(10)"
   ]
  },
  {
   "cell_type": "code",
   "execution_count": 64,
   "id": "20bb21bf",
   "metadata": {},
   "outputs": [],
   "source": [
    "#df.drop_duplicates(subset=['brand'])\n",
    "\n",
    "top_songs = sort_by_album.drop_duplicates(subset = ['album'])"
   ]
  },
  {
   "cell_type": "code",
   "execution_count": 65,
   "id": "da9b4f0f",
   "metadata": {
    "scrolled": true
   },
   "outputs": [
    {
     "data": {
      "text/html": [
       "<div>\n",
       "<style scoped>\n",
       "    .dataframe tbody tr th:only-of-type {\n",
       "        vertical-align: middle;\n",
       "    }\n",
       "\n",
       "    .dataframe tbody tr th {\n",
       "        vertical-align: top;\n",
       "    }\n",
       "\n",
       "    .dataframe thead th {\n",
       "        text-align: right;\n",
       "    }\n",
       "</style>\n",
       "<table border=\"1\" class=\"dataframe\">\n",
       "  <thead>\n",
       "    <tr style=\"text-align: right;\">\n",
       "      <th></th>\n",
       "      <th>track_id</th>\n",
       "      <th>name</th>\n",
       "      <th>album</th>\n",
       "      <th>artist</th>\n",
       "      <th>danceability</th>\n",
       "      <th>energy</th>\n",
       "      <th>valence</th>\n",
       "      <th>tempo</th>\n",
       "      <th>popularity</th>\n",
       "      <th>Dance100</th>\n",
       "      <th>Energy100</th>\n",
       "      <th>Valence100</th>\n",
       "    </tr>\n",
       "  </thead>\n",
       "  <tbody>\n",
       "    <tr>\n",
       "      <th>0</th>\n",
       "      <td>4cluDES4hQEUhmXj6TXkSo</td>\n",
       "      <td>What Makes You Beautiful</td>\n",
       "      <td>Up All Night</td>\n",
       "      <td>One Direction</td>\n",
       "      <td>0.726</td>\n",
       "      <td>0.787</td>\n",
       "      <td>0.888</td>\n",
       "      <td>124.990</td>\n",
       "      <td>81</td>\n",
       "      <td>72.6</td>\n",
       "      <td>78.7</td>\n",
       "      <td>88.8</td>\n",
       "    </tr>\n",
       "    <tr>\n",
       "      <th>29</th>\n",
       "      <td>6M31fPFCYB8Job3MCjjrDV</td>\n",
       "      <td>They Don't Know About Us</td>\n",
       "      <td>Take Me Home (Expanded Edition)</td>\n",
       "      <td>One Direction</td>\n",
       "      <td>0.514</td>\n",
       "      <td>0.727</td>\n",
       "      <td>0.370</td>\n",
       "      <td>147.917</td>\n",
       "      <td>75</td>\n",
       "      <td>51.4</td>\n",
       "      <td>72.7</td>\n",
       "      <td>37.0</td>\n",
       "    </tr>\n",
       "    <tr>\n",
       "      <th>39</th>\n",
       "      <td>4nVBt6MZDDP6tRVdQTgxJg</td>\n",
       "      <td>Story of My Life</td>\n",
       "      <td>Midnight Memories (Deluxe)</td>\n",
       "      <td>One Direction</td>\n",
       "      <td>0.600</td>\n",
       "      <td>0.663</td>\n",
       "      <td>0.286</td>\n",
       "      <td>121.070</td>\n",
       "      <td>80</td>\n",
       "      <td>60.0</td>\n",
       "      <td>66.3</td>\n",
       "      <td>28.6</td>\n",
       "    </tr>\n",
       "    <tr>\n",
       "      <th>73</th>\n",
       "      <td>2K87XMYnUMqLcX3zvtAF4G</td>\n",
       "      <td>Drag Me Down</td>\n",
       "      <td>Made In The A.M. (Deluxe Edition)</td>\n",
       "      <td>One Direction</td>\n",
       "      <td>0.730</td>\n",
       "      <td>0.703</td>\n",
       "      <td>0.595</td>\n",
       "      <td>138.113</td>\n",
       "      <td>78</td>\n",
       "      <td>73.0</td>\n",
       "      <td>70.3</td>\n",
       "      <td>59.5</td>\n",
       "    </tr>\n",
       "    <tr>\n",
       "      <th>62</th>\n",
       "      <td>5O2P9iiztwhomNh8xkR9lJ</td>\n",
       "      <td>Night Changes</td>\n",
       "      <td>FOUR (Deluxe)</td>\n",
       "      <td>One Direction</td>\n",
       "      <td>0.672</td>\n",
       "      <td>0.520</td>\n",
       "      <td>0.370</td>\n",
       "      <td>120.001</td>\n",
       "      <td>82</td>\n",
       "      <td>67.2</td>\n",
       "      <td>52.0</td>\n",
       "      <td>37.0</td>\n",
       "    </tr>\n",
       "  </tbody>\n",
       "</table>\n",
       "</div>"
      ],
      "text/plain": [
       "                  track_id                      name  \\\n",
       "0   4cluDES4hQEUhmXj6TXkSo  What Makes You Beautiful   \n",
       "29  6M31fPFCYB8Job3MCjjrDV  They Don't Know About Us   \n",
       "39  4nVBt6MZDDP6tRVdQTgxJg          Story of My Life   \n",
       "73  2K87XMYnUMqLcX3zvtAF4G              Drag Me Down   \n",
       "62  5O2P9iiztwhomNh8xkR9lJ             Night Changes   \n",
       "\n",
       "                                album         artist  danceability  energy  \\\n",
       "0                        Up All Night  One Direction         0.726   0.787   \n",
       "29    Take Me Home (Expanded Edition)  One Direction         0.514   0.727   \n",
       "39         Midnight Memories (Deluxe)  One Direction         0.600   0.663   \n",
       "73  Made In The A.M. (Deluxe Edition)  One Direction         0.730   0.703   \n",
       "62                      FOUR (Deluxe)  One Direction         0.672   0.520   \n",
       "\n",
       "    valence    tempo  popularity  Dance100  Energy100  Valence100  \n",
       "0     0.888  124.990          81      72.6       78.7        88.8  \n",
       "29    0.370  147.917          75      51.4       72.7        37.0  \n",
       "39    0.286  121.070          80      60.0       66.3        28.6  \n",
       "73    0.595  138.113          78      73.0       70.3        59.5  \n",
       "62    0.370  120.001          82      67.2       52.0        37.0  "
      ]
     },
     "execution_count": 65,
     "metadata": {},
     "output_type": "execute_result"
    }
   ],
   "source": [
    "top_songs"
   ]
  },
  {
   "cell_type": "markdown",
   "id": "7da89d67",
   "metadata": {},
   "source": [
    "### Most and Least Danceable Songs"
   ]
  },
  {
   "cell_type": "code",
   "execution_count": 66,
   "id": "da5556ac",
   "metadata": {},
   "outputs": [
    {
     "data": {
      "text/html": [
       "<div>\n",
       "<style scoped>\n",
       "    .dataframe tbody tr th:only-of-type {\n",
       "        vertical-align: middle;\n",
       "    }\n",
       "\n",
       "    .dataframe tbody tr th {\n",
       "        vertical-align: top;\n",
       "    }\n",
       "\n",
       "    .dataframe thead th {\n",
       "        text-align: right;\n",
       "    }\n",
       "</style>\n",
       "<table border=\"1\" class=\"dataframe\">\n",
       "  <thead>\n",
       "    <tr style=\"text-align: right;\">\n",
       "      <th></th>\n",
       "      <th>track_id</th>\n",
       "      <th>name</th>\n",
       "      <th>album</th>\n",
       "      <th>artist</th>\n",
       "      <th>danceability</th>\n",
       "      <th>energy</th>\n",
       "      <th>valence</th>\n",
       "      <th>tempo</th>\n",
       "      <th>popularity</th>\n",
       "      <th>Dance100</th>\n",
       "      <th>Energy100</th>\n",
       "      <th>Valence100</th>\n",
       "    </tr>\n",
       "  </thead>\n",
       "  <tbody>\n",
       "    <tr>\n",
       "      <th>44</th>\n",
       "      <td>3cKM7UXBZmgjEgEBTkaIlU</td>\n",
       "      <td>Strong</td>\n",
       "      <td>Midnight Memories (Deluxe)</td>\n",
       "      <td>One Direction</td>\n",
       "      <td>0.741</td>\n",
       "      <td>0.663</td>\n",
       "      <td>0.338</td>\n",
       "      <td>115.013</td>\n",
       "      <td>66</td>\n",
       "      <td>74.1</td>\n",
       "      <td>66.3</td>\n",
       "      <td>33.8</td>\n",
       "    </tr>\n",
       "    <tr>\n",
       "      <th>73</th>\n",
       "      <td>2K87XMYnUMqLcX3zvtAF4G</td>\n",
       "      <td>Drag Me Down</td>\n",
       "      <td>Made In The A.M. (Deluxe Edition)</td>\n",
       "      <td>One Direction</td>\n",
       "      <td>0.730</td>\n",
       "      <td>0.703</td>\n",
       "      <td>0.595</td>\n",
       "      <td>138.113</td>\n",
       "      <td>78</td>\n",
       "      <td>73.0</td>\n",
       "      <td>70.3</td>\n",
       "      <td>59.5</td>\n",
       "    </tr>\n",
       "    <tr>\n",
       "      <th>0</th>\n",
       "      <td>4cluDES4hQEUhmXj6TXkSo</td>\n",
       "      <td>What Makes You Beautiful</td>\n",
       "      <td>Up All Night</td>\n",
       "      <td>One Direction</td>\n",
       "      <td>0.726</td>\n",
       "      <td>0.787</td>\n",
       "      <td>0.888</td>\n",
       "      <td>124.990</td>\n",
       "      <td>81</td>\n",
       "      <td>72.6</td>\n",
       "      <td>78.7</td>\n",
       "      <td>88.8</td>\n",
       "    </tr>\n",
       "    <tr>\n",
       "      <th>26</th>\n",
       "      <td>6Fe0bY8vDxBnN7rDgu3ACE</td>\n",
       "      <td>I Would</td>\n",
       "      <td>Take Me Home (Expanded Edition)</td>\n",
       "      <td>One Direction</td>\n",
       "      <td>0.720</td>\n",
       "      <td>0.725</td>\n",
       "      <td>0.679</td>\n",
       "      <td>126.471</td>\n",
       "      <td>61</td>\n",
       "      <td>72.0</td>\n",
       "      <td>72.5</td>\n",
       "      <td>67.9</td>\n",
       "    </tr>\n",
       "    <tr>\n",
       "      <th>83</th>\n",
       "      <td>608R6FvRtAqf2dvgKMzebP</td>\n",
       "      <td>I Want to Write You a Song</td>\n",
       "      <td>Made In The A.M. (Deluxe Edition)</td>\n",
       "      <td>One Direction</td>\n",
       "      <td>0.714</td>\n",
       "      <td>0.443</td>\n",
       "      <td>0.463</td>\n",
       "      <td>106.038</td>\n",
       "      <td>61</td>\n",
       "      <td>71.4</td>\n",
       "      <td>44.3</td>\n",
       "      <td>46.3</td>\n",
       "    </tr>\n",
       "  </tbody>\n",
       "</table>\n",
       "</div>"
      ],
      "text/plain": [
       "                  track_id                        name  \\\n",
       "44  3cKM7UXBZmgjEgEBTkaIlU                      Strong   \n",
       "73  2K87XMYnUMqLcX3zvtAF4G                Drag Me Down   \n",
       "0   4cluDES4hQEUhmXj6TXkSo    What Makes You Beautiful   \n",
       "26  6Fe0bY8vDxBnN7rDgu3ACE                     I Would   \n",
       "83  608R6FvRtAqf2dvgKMzebP  I Want to Write You a Song   \n",
       "\n",
       "                                album         artist  danceability  energy  \\\n",
       "44         Midnight Memories (Deluxe)  One Direction         0.741   0.663   \n",
       "73  Made In The A.M. (Deluxe Edition)  One Direction         0.730   0.703   \n",
       "0                        Up All Night  One Direction         0.726   0.787   \n",
       "26    Take Me Home (Expanded Edition)  One Direction         0.720   0.725   \n",
       "83  Made In The A.M. (Deluxe Edition)  One Direction         0.714   0.443   \n",
       "\n",
       "    valence    tempo  popularity  Dance100  Energy100  Valence100  \n",
       "44    0.338  115.013          66      74.1       66.3        33.8  \n",
       "73    0.595  138.113          78      73.0       70.3        59.5  \n",
       "0     0.888  124.990          81      72.6       78.7        88.8  \n",
       "26    0.679  126.471          61      72.0       72.5        67.9  \n",
       "83    0.463  106.038          61      71.4       44.3        46.3  "
      ]
     },
     "execution_count": 66,
     "metadata": {},
     "output_type": "execute_result"
    }
   ],
   "source": [
    "dance_sort1 = one_D_pop.sort_values(by = 'danceability', ascending = False)\n",
    "dance_sort1.head()"
   ]
  },
  {
   "cell_type": "code",
   "execution_count": 67,
   "id": "03142f0f",
   "metadata": {
    "scrolled": true
   },
   "outputs": [
    {
     "data": {
      "text/html": [
       "<div>\n",
       "<style scoped>\n",
       "    .dataframe tbody tr th:only-of-type {\n",
       "        vertical-align: middle;\n",
       "    }\n",
       "\n",
       "    .dataframe tbody tr th {\n",
       "        vertical-align: top;\n",
       "    }\n",
       "\n",
       "    .dataframe thead th {\n",
       "        text-align: right;\n",
       "    }\n",
       "</style>\n",
       "<table border=\"1\" class=\"dataframe\">\n",
       "  <thead>\n",
       "    <tr style=\"text-align: right;\">\n",
       "      <th></th>\n",
       "      <th>track_id</th>\n",
       "      <th>name</th>\n",
       "      <th>album</th>\n",
       "      <th>artist</th>\n",
       "      <th>danceability</th>\n",
       "      <th>energy</th>\n",
       "      <th>valence</th>\n",
       "      <th>tempo</th>\n",
       "      <th>popularity</th>\n",
       "      <th>Dance100</th>\n",
       "      <th>Energy100</th>\n",
       "      <th>Valence100</th>\n",
       "    </tr>\n",
       "  </thead>\n",
       "  <tbody>\n",
       "    <tr>\n",
       "      <th>27</th>\n",
       "      <td>6l3vk93IWfe0wq396JTCM6</td>\n",
       "      <td>Over Again</td>\n",
       "      <td>Take Me Home (Expanded Edition)</td>\n",
       "      <td>One Direction</td>\n",
       "      <td>0.373</td>\n",
       "      <td>0.575</td>\n",
       "      <td>0.500</td>\n",
       "      <td>72.595</td>\n",
       "      <td>63</td>\n",
       "      <td>37.3</td>\n",
       "      <td>57.5</td>\n",
       "      <td>50.0</td>\n",
       "    </tr>\n",
       "    <tr>\n",
       "      <th>10</th>\n",
       "      <td>46qPfZshPjoitCKdKVD6k7</td>\n",
       "      <td>Same Mistakes</td>\n",
       "      <td>Up All Night</td>\n",
       "      <td>One Direction</td>\n",
       "      <td>0.374</td>\n",
       "      <td>0.659</td>\n",
       "      <td>0.168</td>\n",
       "      <td>179.961</td>\n",
       "      <td>55</td>\n",
       "      <td>37.4</td>\n",
       "      <td>65.9</td>\n",
       "      <td>16.8</td>\n",
       "    </tr>\n",
       "    <tr>\n",
       "      <th>67</th>\n",
       "      <td>6ibWCCEne6WEqDBAv7BeXv</td>\n",
       "      <td>Clouds</td>\n",
       "      <td>FOUR (Deluxe)</td>\n",
       "      <td>One Direction</td>\n",
       "      <td>0.395</td>\n",
       "      <td>0.906</td>\n",
       "      <td>0.196</td>\n",
       "      <td>147.864</td>\n",
       "      <td>59</td>\n",
       "      <td>39.5</td>\n",
       "      <td>90.6</td>\n",
       "      <td>19.6</td>\n",
       "    </tr>\n",
       "    <tr>\n",
       "      <th>65</th>\n",
       "      <td>4lrC9aBnzlG9U5DDoHMnyt</td>\n",
       "      <td>Spaces</td>\n",
       "      <td>FOUR (Deluxe)</td>\n",
       "      <td>One Direction</td>\n",
       "      <td>0.425</td>\n",
       "      <td>0.668</td>\n",
       "      <td>0.351</td>\n",
       "      <td>149.924</td>\n",
       "      <td>58</td>\n",
       "      <td>42.5</td>\n",
       "      <td>66.8</td>\n",
       "      <td>35.1</td>\n",
       "    </tr>\n",
       "    <tr>\n",
       "      <th>41</th>\n",
       "      <td>5wjmqUGN7vrAqFqDWrywlZ</td>\n",
       "      <td>Midnight Memories</td>\n",
       "      <td>Midnight Memories (Deluxe)</td>\n",
       "      <td>One Direction</td>\n",
       "      <td>0.432</td>\n",
       "      <td>0.868</td>\n",
       "      <td>0.567</td>\n",
       "      <td>156.128</td>\n",
       "      <td>67</td>\n",
       "      <td>43.2</td>\n",
       "      <td>86.8</td>\n",
       "      <td>56.7</td>\n",
       "    </tr>\n",
       "  </tbody>\n",
       "</table>\n",
       "</div>"
      ],
      "text/plain": [
       "                  track_id               name  \\\n",
       "27  6l3vk93IWfe0wq396JTCM6         Over Again   \n",
       "10  46qPfZshPjoitCKdKVD6k7      Same Mistakes   \n",
       "67  6ibWCCEne6WEqDBAv7BeXv             Clouds   \n",
       "65  4lrC9aBnzlG9U5DDoHMnyt             Spaces   \n",
       "41  5wjmqUGN7vrAqFqDWrywlZ  Midnight Memories   \n",
       "\n",
       "                              album         artist  danceability  energy  \\\n",
       "27  Take Me Home (Expanded Edition)  One Direction         0.373   0.575   \n",
       "10                     Up All Night  One Direction         0.374   0.659   \n",
       "67                    FOUR (Deluxe)  One Direction         0.395   0.906   \n",
       "65                    FOUR (Deluxe)  One Direction         0.425   0.668   \n",
       "41       Midnight Memories (Deluxe)  One Direction         0.432   0.868   \n",
       "\n",
       "    valence    tempo  popularity  Dance100  Energy100  Valence100  \n",
       "27    0.500   72.595          63      37.3       57.5        50.0  \n",
       "10    0.168  179.961          55      37.4       65.9        16.8  \n",
       "67    0.196  147.864          59      39.5       90.6        19.6  \n",
       "65    0.351  149.924          58      42.5       66.8        35.1  \n",
       "41    0.567  156.128          67      43.2       86.8        56.7  "
      ]
     },
     "execution_count": 67,
     "metadata": {},
     "output_type": "execute_result"
    }
   ],
   "source": [
    "dance_sort2 = one_D_pop.sort_values(by = 'danceability')\n",
    "dance_sort2.head()"
   ]
  },
  {
   "cell_type": "markdown",
   "id": "993da13b",
   "metadata": {},
   "source": [
    "### Highest and Lowest Energy Songs"
   ]
  },
  {
   "cell_type": "code",
   "execution_count": 68,
   "id": "0f3f10c8",
   "metadata": {},
   "outputs": [
    {
     "data": {
      "text/html": [
       "<div>\n",
       "<style scoped>\n",
       "    .dataframe tbody tr th:only-of-type {\n",
       "        vertical-align: middle;\n",
       "    }\n",
       "\n",
       "    .dataframe tbody tr th {\n",
       "        vertical-align: top;\n",
       "    }\n",
       "\n",
       "    .dataframe thead th {\n",
       "        text-align: right;\n",
       "    }\n",
       "</style>\n",
       "<table border=\"1\" class=\"dataframe\">\n",
       "  <thead>\n",
       "    <tr style=\"text-align: right;\">\n",
       "      <th></th>\n",
       "      <th>track_id</th>\n",
       "      <th>name</th>\n",
       "      <th>album</th>\n",
       "      <th>artist</th>\n",
       "      <th>danceability</th>\n",
       "      <th>energy</th>\n",
       "      <th>valence</th>\n",
       "      <th>tempo</th>\n",
       "      <th>popularity</th>\n",
       "      <th>Dance100</th>\n",
       "      <th>Energy100</th>\n",
       "      <th>Valence100</th>\n",
       "    </tr>\n",
       "  </thead>\n",
       "  <tbody>\n",
       "    <tr>\n",
       "      <th>34</th>\n",
       "      <td>1fZvvlfjgoqjz7HQKEfzyp</td>\n",
       "      <td>Still The One</td>\n",
       "      <td>Take Me Home (Expanded Edition)</td>\n",
       "      <td>One Direction</td>\n",
       "      <td>0.614</td>\n",
       "      <td>0.984</td>\n",
       "      <td>0.776</td>\n",
       "      <td>142.002</td>\n",
       "      <td>59</td>\n",
       "      <td>61.4</td>\n",
       "      <td>98.4</td>\n",
       "      <td>77.6</td>\n",
       "    </tr>\n",
       "    <tr>\n",
       "      <th>17</th>\n",
       "      <td>4yVPaA6DOfwbqZIQNv4G5U</td>\n",
       "      <td>I Should Have Kissed You</td>\n",
       "      <td>Up All Night</td>\n",
       "      <td>One Direction</td>\n",
       "      <td>0.495</td>\n",
       "      <td>0.966</td>\n",
       "      <td>0.553</td>\n",
       "      <td>139.931</td>\n",
       "      <td>57</td>\n",
       "      <td>49.5</td>\n",
       "      <td>96.6</td>\n",
       "      <td>55.3</td>\n",
       "    </tr>\n",
       "    <tr>\n",
       "      <th>68</th>\n",
       "      <td>2skzofTV9Ys3eN70pghEHL</td>\n",
       "      <td>Change Your Ticket</td>\n",
       "      <td>FOUR (Deluxe)</td>\n",
       "      <td>One Direction</td>\n",
       "      <td>0.590</td>\n",
       "      <td>0.944</td>\n",
       "      <td>0.596</td>\n",
       "      <td>103.991</td>\n",
       "      <td>57</td>\n",
       "      <td>59.0</td>\n",
       "      <td>94.4</td>\n",
       "      <td>59.6</td>\n",
       "    </tr>\n",
       "    <tr>\n",
       "      <th>21</th>\n",
       "      <td>3lnjFENd7rHxPYM9b964Md</td>\n",
       "      <td>C'mon, C'mon</td>\n",
       "      <td>Take Me Home (Expanded Edition)</td>\n",
       "      <td>One Direction</td>\n",
       "      <td>0.638</td>\n",
       "      <td>0.942</td>\n",
       "      <td>0.745</td>\n",
       "      <td>142.896</td>\n",
       "      <td>60</td>\n",
       "      <td>63.8</td>\n",
       "      <td>94.2</td>\n",
       "      <td>74.5</td>\n",
       "    </tr>\n",
       "    <tr>\n",
       "      <th>52</th>\n",
       "      <td>2pFEbA6GdNxBOMn9Egvowm</td>\n",
       "      <td>Why Don't We Go There</td>\n",
       "      <td>Midnight Memories (Deluxe)</td>\n",
       "      <td>One Direction</td>\n",
       "      <td>0.523</td>\n",
       "      <td>0.939</td>\n",
       "      <td>0.788</td>\n",
       "      <td>160.019</td>\n",
       "      <td>58</td>\n",
       "      <td>52.3</td>\n",
       "      <td>93.9</td>\n",
       "      <td>78.8</td>\n",
       "    </tr>\n",
       "  </tbody>\n",
       "</table>\n",
       "</div>"
      ],
      "text/plain": [
       "                  track_id                      name  \\\n",
       "34  1fZvvlfjgoqjz7HQKEfzyp             Still The One   \n",
       "17  4yVPaA6DOfwbqZIQNv4G5U  I Should Have Kissed You   \n",
       "68  2skzofTV9Ys3eN70pghEHL        Change Your Ticket   \n",
       "21  3lnjFENd7rHxPYM9b964Md              C'mon, C'mon   \n",
       "52  2pFEbA6GdNxBOMn9Egvowm     Why Don't We Go There   \n",
       "\n",
       "                              album         artist  danceability  energy  \\\n",
       "34  Take Me Home (Expanded Edition)  One Direction         0.614   0.984   \n",
       "17                     Up All Night  One Direction         0.495   0.966   \n",
       "68                    FOUR (Deluxe)  One Direction         0.590   0.944   \n",
       "21  Take Me Home (Expanded Edition)  One Direction         0.638   0.942   \n",
       "52       Midnight Memories (Deluxe)  One Direction         0.523   0.939   \n",
       "\n",
       "    valence    tempo  popularity  Dance100  Energy100  Valence100  \n",
       "34    0.776  142.002          59      61.4       98.4        77.6  \n",
       "17    0.553  139.931          57      49.5       96.6        55.3  \n",
       "68    0.596  103.991          57      59.0       94.4        59.6  \n",
       "21    0.745  142.896          60      63.8       94.2        74.5  \n",
       "52    0.788  160.019          58      52.3       93.9        78.8  "
      ]
     },
     "execution_count": 68,
     "metadata": {},
     "output_type": "execute_result"
    }
   ],
   "source": [
    "energy_sort1 = one_D_pop.sort_values(by = 'energy', ascending = False)\n",
    "energy_sort1.head()"
   ]
  },
  {
   "cell_type": "code",
   "execution_count": 69,
   "id": "93129182",
   "metadata": {
    "scrolled": true
   },
   "outputs": [
    {
     "data": {
      "text/html": [
       "<div>\n",
       "<style scoped>\n",
       "    .dataframe tbody tr th:only-of-type {\n",
       "        vertical-align: middle;\n",
       "    }\n",
       "\n",
       "    .dataframe tbody tr th {\n",
       "        vertical-align: top;\n",
       "    }\n",
       "\n",
       "    .dataframe thead th {\n",
       "        text-align: right;\n",
       "    }\n",
       "</style>\n",
       "<table border=\"1\" class=\"dataframe\">\n",
       "  <thead>\n",
       "    <tr style=\"text-align: right;\">\n",
       "      <th></th>\n",
       "      <th>track_id</th>\n",
       "      <th>name</th>\n",
       "      <th>album</th>\n",
       "      <th>artist</th>\n",
       "      <th>danceability</th>\n",
       "      <th>energy</th>\n",
       "      <th>valence</th>\n",
       "      <th>tempo</th>\n",
       "      <th>popularity</th>\n",
       "      <th>Dance100</th>\n",
       "      <th>Energy100</th>\n",
       "      <th>Valence100</th>\n",
       "    </tr>\n",
       "  </thead>\n",
       "  <tbody>\n",
       "    <tr>\n",
       "      <th>20</th>\n",
       "      <td>0TAmnCzOtqRfvA38DDLTjj</td>\n",
       "      <td>Little Things</td>\n",
       "      <td>Take Me Home (Expanded Edition)</td>\n",
       "      <td>One Direction</td>\n",
       "      <td>0.709</td>\n",
       "      <td>0.220</td>\n",
       "      <td>0.530</td>\n",
       "      <td>110.076</td>\n",
       "      <td>73</td>\n",
       "      <td>70.9</td>\n",
       "      <td>22.0</td>\n",
       "      <td>53.0</td>\n",
       "    </tr>\n",
       "    <tr>\n",
       "      <th>77</th>\n",
       "      <td>5CRVwXGikmqzoRO6q7FeAg</td>\n",
       "      <td>If I Could Fly</td>\n",
       "      <td>Made In The A.M. (Deluxe Edition)</td>\n",
       "      <td>One Direction</td>\n",
       "      <td>0.565</td>\n",
       "      <td>0.245</td>\n",
       "      <td>0.307</td>\n",
       "      <td>75.055</td>\n",
       "      <td>69</td>\n",
       "      <td>56.5</td>\n",
       "      <td>24.5</td>\n",
       "      <td>30.7</td>\n",
       "    </tr>\n",
       "    <tr>\n",
       "      <th>42</th>\n",
       "      <td>2afCBiru10AFckfOa49wIa</td>\n",
       "      <td>You &amp; I</td>\n",
       "      <td>Midnight Memories (Deluxe)</td>\n",
       "      <td>One Direction</td>\n",
       "      <td>0.574</td>\n",
       "      <td>0.329</td>\n",
       "      <td>0.356</td>\n",
       "      <td>130.993</td>\n",
       "      <td>75</td>\n",
       "      <td>57.4</td>\n",
       "      <td>32.9</td>\n",
       "      <td>35.6</td>\n",
       "    </tr>\n",
       "    <tr>\n",
       "      <th>70</th>\n",
       "      <td>1dD1aarWotVIiFo5gGdMc2</td>\n",
       "      <td>Once in a Lifetime</td>\n",
       "      <td>FOUR (Deluxe)</td>\n",
       "      <td>One Direction</td>\n",
       "      <td>0.554</td>\n",
       "      <td>0.335</td>\n",
       "      <td>0.298</td>\n",
       "      <td>133.709</td>\n",
       "      <td>57</td>\n",
       "      <td>55.4</td>\n",
       "      <td>33.5</td>\n",
       "      <td>29.8</td>\n",
       "    </tr>\n",
       "    <tr>\n",
       "      <th>35</th>\n",
       "      <td>5lgqMorcT2crsPWiYlgec1</td>\n",
       "      <td>Truly Madly Deeply</td>\n",
       "      <td>Take Me Home (Expanded Edition)</td>\n",
       "      <td>One Direction</td>\n",
       "      <td>0.672</td>\n",
       "      <td>0.388</td>\n",
       "      <td>0.552</td>\n",
       "      <td>113.051</td>\n",
       "      <td>58</td>\n",
       "      <td>67.2</td>\n",
       "      <td>38.8</td>\n",
       "      <td>55.2</td>\n",
       "    </tr>\n",
       "  </tbody>\n",
       "</table>\n",
       "</div>"
      ],
      "text/plain": [
       "                  track_id                name  \\\n",
       "20  0TAmnCzOtqRfvA38DDLTjj       Little Things   \n",
       "77  5CRVwXGikmqzoRO6q7FeAg      If I Could Fly   \n",
       "42  2afCBiru10AFckfOa49wIa             You & I   \n",
       "70  1dD1aarWotVIiFo5gGdMc2  Once in a Lifetime   \n",
       "35  5lgqMorcT2crsPWiYlgec1  Truly Madly Deeply   \n",
       "\n",
       "                                album         artist  danceability  energy  \\\n",
       "20    Take Me Home (Expanded Edition)  One Direction         0.709   0.220   \n",
       "77  Made In The A.M. (Deluxe Edition)  One Direction         0.565   0.245   \n",
       "42         Midnight Memories (Deluxe)  One Direction         0.574   0.329   \n",
       "70                      FOUR (Deluxe)  One Direction         0.554   0.335   \n",
       "35    Take Me Home (Expanded Edition)  One Direction         0.672   0.388   \n",
       "\n",
       "    valence    tempo  popularity  Dance100  Energy100  Valence100  \n",
       "20    0.530  110.076          73      70.9       22.0        53.0  \n",
       "77    0.307   75.055          69      56.5       24.5        30.7  \n",
       "42    0.356  130.993          75      57.4       32.9        35.6  \n",
       "70    0.298  133.709          57      55.4       33.5        29.8  \n",
       "35    0.552  113.051          58      67.2       38.8        55.2  "
      ]
     },
     "execution_count": 69,
     "metadata": {},
     "output_type": "execute_result"
    }
   ],
   "source": [
    "energy_sort2 = one_D_pop.sort_values(by = 'energy')\n",
    "energy_sort2.head()"
   ]
  },
  {
   "cell_type": "markdown",
   "id": "076f214b",
   "metadata": {},
   "source": [
    "### Happiest (high valence) and Saddest (low valence) Songs"
   ]
  },
  {
   "cell_type": "code",
   "execution_count": 70,
   "id": "e98b593a",
   "metadata": {},
   "outputs": [
    {
     "data": {
      "text/html": [
       "<div>\n",
       "<style scoped>\n",
       "    .dataframe tbody tr th:only-of-type {\n",
       "        vertical-align: middle;\n",
       "    }\n",
       "\n",
       "    .dataframe tbody tr th {\n",
       "        vertical-align: top;\n",
       "    }\n",
       "\n",
       "    .dataframe thead th {\n",
       "        text-align: right;\n",
       "    }\n",
       "</style>\n",
       "<table border=\"1\" class=\"dataframe\">\n",
       "  <thead>\n",
       "    <tr style=\"text-align: right;\">\n",
       "      <th></th>\n",
       "      <th>track_id</th>\n",
       "      <th>name</th>\n",
       "      <th>album</th>\n",
       "      <th>artist</th>\n",
       "      <th>danceability</th>\n",
       "      <th>energy</th>\n",
       "      <th>valence</th>\n",
       "      <th>tempo</th>\n",
       "      <th>popularity</th>\n",
       "      <th>Dance100</th>\n",
       "      <th>Energy100</th>\n",
       "      <th>Valence100</th>\n",
       "    </tr>\n",
       "  </thead>\n",
       "  <tbody>\n",
       "    <tr>\n",
       "      <th>85</th>\n",
       "      <td>2Xcvt8NRLw0xbB3ClfW8MI</td>\n",
       "      <td>Temporary Fix</td>\n",
       "      <td>Made In The A.M. (Deluxe Edition)</td>\n",
       "      <td>One Direction</td>\n",
       "      <td>0.556</td>\n",
       "      <td>0.902</td>\n",
       "      <td>0.960</td>\n",
       "      <td>145.914</td>\n",
       "      <td>64</td>\n",
       "      <td>55.6</td>\n",
       "      <td>90.2</td>\n",
       "      <td>96.0</td>\n",
       "    </tr>\n",
       "    <tr>\n",
       "      <th>18</th>\n",
       "      <td>6Vh03bkEfXqekWp7Y1UBRb</td>\n",
       "      <td>Live While We're Young</td>\n",
       "      <td>Take Me Home (Expanded Edition)</td>\n",
       "      <td>One Direction</td>\n",
       "      <td>0.663</td>\n",
       "      <td>0.857</td>\n",
       "      <td>0.931</td>\n",
       "      <td>126.039</td>\n",
       "      <td>72</td>\n",
       "      <td>66.3</td>\n",
       "      <td>85.7</td>\n",
       "      <td>93.1</td>\n",
       "    </tr>\n",
       "    <tr>\n",
       "      <th>64</th>\n",
       "      <td>34aYkYrY3sXhEU9O4VQgtB</td>\n",
       "      <td>Fireproof</td>\n",
       "      <td>FOUR (Deluxe)</td>\n",
       "      <td>One Direction</td>\n",
       "      <td>0.681</td>\n",
       "      <td>0.864</td>\n",
       "      <td>0.921</td>\n",
       "      <td>132.929</td>\n",
       "      <td>65</td>\n",
       "      <td>68.1</td>\n",
       "      <td>86.4</td>\n",
       "      <td>92.1</td>\n",
       "    </tr>\n",
       "    <tr>\n",
       "      <th>13</th>\n",
       "      <td>147ximWPJObFNQ4M1AhFox</td>\n",
       "      <td>Stand Up</td>\n",
       "      <td>Up All Night</td>\n",
       "      <td>One Direction</td>\n",
       "      <td>0.584</td>\n",
       "      <td>0.900</td>\n",
       "      <td>0.893</td>\n",
       "      <td>125.007</td>\n",
       "      <td>57</td>\n",
       "      <td>58.4</td>\n",
       "      <td>90.0</td>\n",
       "      <td>89.3</td>\n",
       "    </tr>\n",
       "    <tr>\n",
       "      <th>0</th>\n",
       "      <td>4cluDES4hQEUhmXj6TXkSo</td>\n",
       "      <td>What Makes You Beautiful</td>\n",
       "      <td>Up All Night</td>\n",
       "      <td>One Direction</td>\n",
       "      <td>0.726</td>\n",
       "      <td>0.787</td>\n",
       "      <td>0.888</td>\n",
       "      <td>124.990</td>\n",
       "      <td>81</td>\n",
       "      <td>72.6</td>\n",
       "      <td>78.7</td>\n",
       "      <td>88.8</td>\n",
       "    </tr>\n",
       "  </tbody>\n",
       "</table>\n",
       "</div>"
      ],
      "text/plain": [
       "                  track_id                      name  \\\n",
       "85  2Xcvt8NRLw0xbB3ClfW8MI             Temporary Fix   \n",
       "18  6Vh03bkEfXqekWp7Y1UBRb    Live While We're Young   \n",
       "64  34aYkYrY3sXhEU9O4VQgtB                 Fireproof   \n",
       "13  147ximWPJObFNQ4M1AhFox                  Stand Up   \n",
       "0   4cluDES4hQEUhmXj6TXkSo  What Makes You Beautiful   \n",
       "\n",
       "                                album         artist  danceability  energy  \\\n",
       "85  Made In The A.M. (Deluxe Edition)  One Direction         0.556   0.902   \n",
       "18    Take Me Home (Expanded Edition)  One Direction         0.663   0.857   \n",
       "64                      FOUR (Deluxe)  One Direction         0.681   0.864   \n",
       "13                       Up All Night  One Direction         0.584   0.900   \n",
       "0                        Up All Night  One Direction         0.726   0.787   \n",
       "\n",
       "    valence    tempo  popularity  Dance100  Energy100  Valence100  \n",
       "85    0.960  145.914          64      55.6       90.2        96.0  \n",
       "18    0.931  126.039          72      66.3       85.7        93.1  \n",
       "64    0.921  132.929          65      68.1       86.4        92.1  \n",
       "13    0.893  125.007          57      58.4       90.0        89.3  \n",
       "0     0.888  124.990          81      72.6       78.7        88.8  "
      ]
     },
     "execution_count": 70,
     "metadata": {},
     "output_type": "execute_result"
    }
   ],
   "source": [
    "valence_sort1 = one_D_pop.sort_values(by = 'valence', ascending = False)\n",
    "valence_sort1.head()"
   ]
  },
  {
   "cell_type": "code",
   "execution_count": 71,
   "id": "09bfedb8",
   "metadata": {},
   "outputs": [
    {
     "data": {
      "text/html": [
       "<div>\n",
       "<style scoped>\n",
       "    .dataframe tbody tr th:only-of-type {\n",
       "        vertical-align: middle;\n",
       "    }\n",
       "\n",
       "    .dataframe tbody tr th {\n",
       "        vertical-align: top;\n",
       "    }\n",
       "\n",
       "    .dataframe thead th {\n",
       "        text-align: right;\n",
       "    }\n",
       "</style>\n",
       "<table border=\"1\" class=\"dataframe\">\n",
       "  <thead>\n",
       "    <tr style=\"text-align: right;\">\n",
       "      <th></th>\n",
       "      <th>track_id</th>\n",
       "      <th>name</th>\n",
       "      <th>album</th>\n",
       "      <th>artist</th>\n",
       "      <th>danceability</th>\n",
       "      <th>energy</th>\n",
       "      <th>valence</th>\n",
       "      <th>tempo</th>\n",
       "      <th>popularity</th>\n",
       "      <th>Dance100</th>\n",
       "      <th>Energy100</th>\n",
       "      <th>Valence100</th>\n",
       "    </tr>\n",
       "  </thead>\n",
       "  <tbody>\n",
       "    <tr>\n",
       "      <th>10</th>\n",
       "      <td>46qPfZshPjoitCKdKVD6k7</td>\n",
       "      <td>Same Mistakes</td>\n",
       "      <td>Up All Night</td>\n",
       "      <td>One Direction</td>\n",
       "      <td>0.374</td>\n",
       "      <td>0.659</td>\n",
       "      <td>0.168</td>\n",
       "      <td>179.961</td>\n",
       "      <td>55</td>\n",
       "      <td>37.4</td>\n",
       "      <td>65.9</td>\n",
       "      <td>16.8</td>\n",
       "    </tr>\n",
       "    <tr>\n",
       "      <th>67</th>\n",
       "      <td>6ibWCCEne6WEqDBAv7BeXv</td>\n",
       "      <td>Clouds</td>\n",
       "      <td>FOUR (Deluxe)</td>\n",
       "      <td>One Direction</td>\n",
       "      <td>0.395</td>\n",
       "      <td>0.906</td>\n",
       "      <td>0.196</td>\n",
       "      <td>147.864</td>\n",
       "      <td>59</td>\n",
       "      <td>39.5</td>\n",
       "      <td>90.6</td>\n",
       "      <td>19.6</td>\n",
       "    </tr>\n",
       "    <tr>\n",
       "      <th>59</th>\n",
       "      <td>3JjnGLK8IxkNLvo8Lb3KOM</td>\n",
       "      <td>18</td>\n",
       "      <td>FOUR (Deluxe)</td>\n",
       "      <td>One Direction</td>\n",
       "      <td>0.681</td>\n",
       "      <td>0.582</td>\n",
       "      <td>0.221</td>\n",
       "      <td>124.038</td>\n",
       "      <td>75</td>\n",
       "      <td>68.1</td>\n",
       "      <td>58.2</td>\n",
       "      <td>22.1</td>\n",
       "    </tr>\n",
       "    <tr>\n",
       "      <th>3</th>\n",
       "      <td>0UAB340gAcSMk3r0a8PTag</td>\n",
       "      <td>More Than This</td>\n",
       "      <td>Up All Night</td>\n",
       "      <td>One Direction</td>\n",
       "      <td>0.498</td>\n",
       "      <td>0.715</td>\n",
       "      <td>0.225</td>\n",
       "      <td>151.809</td>\n",
       "      <td>63</td>\n",
       "      <td>49.8</td>\n",
       "      <td>71.5</td>\n",
       "      <td>22.5</td>\n",
       "    </tr>\n",
       "    <tr>\n",
       "      <th>14</th>\n",
       "      <td>3MxJGBnYaP4yQYUv90HLqZ</td>\n",
       "      <td>Moments</td>\n",
       "      <td>Up All Night</td>\n",
       "      <td>One Direction</td>\n",
       "      <td>0.474</td>\n",
       "      <td>0.739</td>\n",
       "      <td>0.253</td>\n",
       "      <td>149.894</td>\n",
       "      <td>60</td>\n",
       "      <td>47.4</td>\n",
       "      <td>73.9</td>\n",
       "      <td>25.3</td>\n",
       "    </tr>\n",
       "  </tbody>\n",
       "</table>\n",
       "</div>"
      ],
      "text/plain": [
       "                  track_id            name          album         artist  \\\n",
       "10  46qPfZshPjoitCKdKVD6k7   Same Mistakes   Up All Night  One Direction   \n",
       "67  6ibWCCEne6WEqDBAv7BeXv          Clouds  FOUR (Deluxe)  One Direction   \n",
       "59  3JjnGLK8IxkNLvo8Lb3KOM              18  FOUR (Deluxe)  One Direction   \n",
       "3   0UAB340gAcSMk3r0a8PTag  More Than This   Up All Night  One Direction   \n",
       "14  3MxJGBnYaP4yQYUv90HLqZ         Moments   Up All Night  One Direction   \n",
       "\n",
       "    danceability  energy  valence    tempo  popularity  Dance100  Energy100  \\\n",
       "10         0.374   0.659    0.168  179.961          55      37.4       65.9   \n",
       "67         0.395   0.906    0.196  147.864          59      39.5       90.6   \n",
       "59         0.681   0.582    0.221  124.038          75      68.1       58.2   \n",
       "3          0.498   0.715    0.225  151.809          63      49.8       71.5   \n",
       "14         0.474   0.739    0.253  149.894          60      47.4       73.9   \n",
       "\n",
       "    Valence100  \n",
       "10        16.8  \n",
       "67        19.6  \n",
       "59        22.1  \n",
       "3         22.5  \n",
       "14        25.3  "
      ]
     },
     "execution_count": 71,
     "metadata": {},
     "output_type": "execute_result"
    }
   ],
   "source": [
    "valence_sort2 = one_D_pop.sort_values(by = 'valence')\n",
    "valence_sort2.head()"
   ]
  },
  {
   "cell_type": "code",
   "execution_count": null,
   "id": "5045c9b6",
   "metadata": {},
   "outputs": [],
   "source": []
  }
 ],
 "metadata": {
  "kernelspec": {
   "display_name": "Python 3",
   "language": "python",
   "name": "python3"
  },
  "language_info": {
   "codemirror_mode": {
    "name": "ipython",
    "version": 3
   },
   "file_extension": ".py",
   "mimetype": "text/x-python",
   "name": "python",
   "nbconvert_exporter": "python",
   "pygments_lexer": "ipython3",
   "version": "3.8.11"
  }
 },
 "nbformat": 4,
 "nbformat_minor": 5
}
